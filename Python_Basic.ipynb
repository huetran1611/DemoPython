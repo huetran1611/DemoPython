{
 "cells": [
  {
   "cell_type": "markdown",
   "metadata": {},
   "source": [
    "# #Function basic"
   ]
  },
  {
   "cell_type": "code",
   "execution_count": 1,
   "metadata": {},
   "outputs": [
    {
     "name": "stdout",
     "output_type": "stream",
     "text": [
      "10\n",
      "9\n",
      "8\n",
      "7\n",
      "6\n",
      "5\n",
      "4\n",
      "3\n",
      "2\n",
      "1\n"
     ]
    }
   ],
   "source": [
    "i = 10 \n",
    "while i > 0:\n",
    "    print(i)\n",
    "    i = i - 1"
   ]
  },
  {
   "cell_type": "code",
   "execution_count": 2,
   "metadata": {},
   "outputs": [
    {
     "name": "stdout",
     "output_type": "stream",
     "text": [
      "\n",
      "* \n",
      "* * \n",
      "* * * \n",
      "* * * * \n",
      "* * * * * \n",
      "* * * * * * \n",
      "* * * * * * * \n",
      "* * * * * * * * \n",
      "* * * * * * * * * \n",
      "* * * * * * * * * * \n"
     ]
    }
   ],
   "source": [
    "def count_to_n(n):\n",
    "    for i in range(1, n + 1):\n",
    "        print('*', end=' ')\n",
    "print()\n",
    "i = 1\n",
    "while i <= 10:\n",
    "    count_to_n(i)\n",
    "    i = i + 1\n",
    "    print()"
   ]
  },
  {
   "cell_type": "code",
   "execution_count": 3,
   "metadata": {},
   "outputs": [
    {
     "name": "stdout",
     "output_type": "stream",
     "text": [
      "\n",
      "* \n",
      "* * \n",
      "* * * \n",
      "* * * * \n",
      "* * * * * \n",
      "* * * * * * \n",
      "* * * * * * * \n",
      "* * * * * * * * \n",
      "* * * * * * * * * \n"
     ]
    }
   ],
   "source": [
    "def count_to_n(n):\n",
    "    for i in range(1, n + 1):\n",
    "        print('*', end=' ')\n",
    "print()\n",
    "for i in range(1, 10):\n",
    "    count_to_n(i)\n",
    "    print()"
   ]
  },
  {
   "cell_type": "markdown",
   "metadata": {},
   "source": [
    "# Giải phương trình bậc hai"
   ]
  },
  {
   "cell_type": "code",
   "execution_count": null,
   "metadata": {},
   "outputs": [
    {
     "name": "stdout",
     "output_type": "stream",
     "text": [
      "nhap phuong trinh ax2 + bx + c = 0\n"
     ]
    }
   ],
   "source": [
    "import math\n",
    "print(\"nhap phuong trinh ax2 + bx + c = 0\")\n",
    "while True:\n",
    "    try:\n",
    "        A = float(input(\"nhap a =\"))\n",
    "        B = float(input(\"nhap b =\"))\n",
    "        C = float(input(\"nhap c =\"))\n",
    "        break;\n",
    "    except Exception:\n",
    "        print(\" a, b, c must be number, try again\")\n",
    "if A == 0:\n",
    "    x = -C/B\n",
    "    print(\"nghiem x:\",x)\n",
    "if A != 0:\n",
    "    delta = B*B - 4*A*C\n",
    "    if delta < 0:\n",
    "        print(\"no solution\")\n",
    "    elif delta == 0:\n",
    "        x12 = -B/(2*A)\n",
    "        print(\"x1 = x2 =\",x12)\n",
    "    else:\n",
    "        x1 = (-B - math.sqrt(delta))/(2*A)\n",
    "        x2 = (-B + math.sqrt(delta))/(2*A)\n",
    "        print(\"x1=\",x1)\n",
    "        print(\"x2=\",x2)"
   ]
  },
  {
   "cell_type": "markdown",
   "metadata": {},
   "source": [
    "# Find Max"
   ]
  },
  {
   "cell_type": "code",
   "execution_count": null,
   "metadata": {},
   "outputs": [],
   "source": [
    "\n",
    "def find_max(nums):\n",
    "    max = nums[0]\n",
    "    for x in nums:\n",
    "      if x > max:\n",
    "        max = x\n",
    "    print(\"max value:\",max)\n",
    "\n",
    "def main():\n",
    "  find_max([2, 4, 9, 7, 19, 94, 5])\n",
    "\n",
    "if __name__ == '__main__':\n",
    "  main()"
   ]
  },
  {
   "cell_type": "code",
   "execution_count": null,
   "metadata": {},
   "outputs": [],
   "source": [
    "#coding:utf-8\n",
    "#Program by Tuan Merino\n",
    "import math\n",
    "def pt(a,b,c):\n",
    "    delta = b*b - 4*a*c\n",
    "if delta > 0:\n",
    "    x1 = (-b + math.sqrt(delta))/(2*a)\n",
    "    x2 = (-b - math.sqrt(delta))/(2*a)\n",
    "    print(\"phuong trinh bac 2 co hai nghiem phan biet\")\n",
    "    print(\"x1= %3.2f x2= %3.2f \" %(x1,x2))\n",
    "elif delta ==0:\n",
    "    print(\"phuong trinh co nghiem kep x1=x2= %3.2f\" %(-b/2*a))\n",
    "else:\n",
    "    print(\"phuong trinh vo nghiem\")  \n",
    "print(\"Nhap lan luot he so a,b,c cua phuong trinh bac 2\") \n",
    "a = float(input('he so a:'))\n",
    "b = float(input('he so b:'))\n",
    "c = float(input('he so c:'))\n",
    "pt(a,b,c)"
   ]
  },
  {
   "cell_type": "code",
   "execution_count": null,
   "metadata": {},
   "outputs": [],
   "source": [
    "#coding:utf-8\n",
    "#Program by Tuan Merino\n",
    "import math\n",
    "def pt(a,b,c):\n",
    "    delta = b*b - 4*a*c    \n",
    "    if delta > 0 :\n",
    "        x1 = (-b + math.sqrt(delta))/(2*a)\n",
    "        x2 = (-b - math.sqrt(delta))/(2*a)\n",
    "        print(\"phuong trinh bac 2 co hai nghiem phan biet\")\n",
    "        print(\"x1= %3.2f x2= %3.2f \" %(x1,x2))\n",
    "    elif delta ==0 :\n",
    "       print(\"phuong trinh co nghiem kep x1=x2= %3.2f\" %(-b/2*a))\n",
    "    else :\n",
    "       print(\"phuong trinh vo nghiem\")    \n",
    "print(\"Nhap lan luot he so a,b,c cua phuong trinh bac 2\")\n",
    "a = float(input('he so a:'))\n",
    "b = float(input('he so b:'))\n",
    "c = float(input('he so c:'))\n",
    "def main():\n",
    "    pt(a,b,c)\n",
    "if __name__ == '__main__':\n",
    "  main()"
   ]
  },
  {
   "cell_type": "code",
   "execution_count": null,
   "metadata": {},
   "outputs": [],
   "source": [
    "'''\n",
    "\n",
    " The nqueens problem is of placing N queens on a N * N \n",
    " chess board such that no queen can attack any other queens placed\n",
    " on that chess board.\n",
    " This means that one queen cannot have any other queen on its horizontal, vertical and \n",
    " diagonal lines.\n",
    "\n",
    "'''\n",
    "solution = []\n",
    "\n",
    "def isSafe(board, row, column):\n",
    "    '''\n",
    "    This function returns a boolean value True if it is safe to place a queen there considering \n",
    "    the current state of the board.\n",
    "\n",
    "    Parameters :\n",
    "    board(2D matrix) : board\n",
    "    row ,column : coordinates of the cell on a board\n",
    "\n",
    "    Returns :\n",
    "    Boolean Value\n",
    "\n",
    "    '''\n",
    "    for i in range(len(board)):\n",
    "        if board[row][i] == 1:\n",
    "            return False\n",
    "    for i in range(len(board)):\n",
    "        if board[i][column] == 1:\n",
    "            return False\n",
    "    for i,j in zip(range(row,-1,-1),range(column,-1,-1)):\n",
    "        if board[i][j] == 1:\n",
    "            return False\n",
    "    for i,j in zip(range(row,-1,-1),range(column,len(board))):\n",
    "        if board[i][j] == 1:\n",
    "            return False\n",
    "    return True\n",
    "\n",
    "def solve(board, row):\n",
    "    '''\n",
    "    It creates a state space tree and calls the safe function untill it receives a \n",
    "    False Boolean and terminates that brach and backtracks to the next \n",
    "    poosible solution branch.\n",
    "    '''\n",
    "    if row >= len(board):\n",
    "        '''\n",
    "        If the row number exceeds N we have board with a successful combination \n",
    "        and that combination is appended to the solution list and the board is printed.\n",
    "\n",
    "        '''\n",
    "        solution.append(board)\n",
    "        printboard(board)\n",
    "        print()\n",
    "        return \n",
    "    for i in range(len(board)):\n",
    "        '''\n",
    "        For every row it iterates through each column to check if it is feesible to place a \n",
    "        queen there.\n",
    "        If all the combinations for that particaular branch are successfull the board is \n",
    "        reinitialized for the next possible combination.\n",
    "        '''\n",
    "        if isSafe(board,row,i):\n",
    "            board[row][i] = 1\n",
    "            solve(board,row+1)\n",
    "            board[row][i] = 0\n",
    "    return False\n",
    "\n",
    "def printboard(board):\n",
    "    '''\n",
    "    Prints the boards that have a successfull combination.\n",
    "    '''\n",
    "    for i in range(len(board)):\n",
    "        for j in range(len(board)):\n",
    "            if board[i][j] == 1:\n",
    "                print(\"Q\", end = \" \")\n",
    "            else :\n",
    "                print(\".\", end = \" \")\n",
    "        print()\n",
    "\n",
    "#n=int(input(\"The no. of queens\")) \n",
    "n = 8\n",
    "board = [[0 for i in range(n)]for j in range(n)]\n",
    "solve(board, 0)\n",
    "print(\"The total no. of solutions are :\", len(solution))\n"
   ]
  },
  {
   "cell_type": "code",
   "execution_count": null,
   "metadata": {},
   "outputs": [],
   "source": []
  },
  {
   "cell_type": "code",
   "execution_count": null,
   "metadata": {},
   "outputs": [],
   "source": []
  }
 ],
 "metadata": {
  "kernelspec": {
   "display_name": "Python 3",
   "language": "python",
   "name": "python3"
  },
  "language_info": {
   "codemirror_mode": {
    "name": "ipython",
    "version": 3
   },
   "file_extension": ".py",
   "mimetype": "text/x-python",
   "name": "python",
   "nbconvert_exporter": "python",
   "pygments_lexer": "ipython3",
   "version": "3.7.3"
  }
 },
 "nbformat": 4,
 "nbformat_minor": 2
}
