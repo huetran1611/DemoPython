{
 "cells": [
  {
   "cell_type": "code",
   "execution_count": 1,
   "metadata": {
    "colab": {},
    "colab_type": "code",
    "id": "Co-5LZQkoxN0"
   },
   "outputs": [
    {
     "data": {
      "text/html": [
       "<div>\n",
       "<style scoped>\n",
       "    .dataframe tbody tr th:only-of-type {\n",
       "        vertical-align: middle;\n",
       "    }\n",
       "\n",
       "    .dataframe tbody tr th {\n",
       "        vertical-align: top;\n",
       "    }\n",
       "\n",
       "    .dataframe thead th {\n",
       "        text-align: right;\n",
       "    }\n",
       "</style>\n",
       "<table border=\"1\" class=\"dataframe\">\n",
       "  <thead>\n",
       "    <tr style=\"text-align: right;\">\n",
       "      <th></th>\n",
       "      <th>id</th>\n",
       "      <th>salbeg</th>\n",
       "      <th>sex</th>\n",
       "      <th>time</th>\n",
       "      <th>age</th>\n",
       "      <th>salnow</th>\n",
       "      <th>edlevel</th>\n",
       "      <th>work</th>\n",
       "      <th>jobcat</th>\n",
       "    </tr>\n",
       "  </thead>\n",
       "  <tbody>\n",
       "    <tr>\n",
       "      <th>0</th>\n",
       "      <td>7</td>\n",
       "      <td>6900</td>\n",
       "      <td>0</td>\n",
       "      <td>79</td>\n",
       "      <td>28.00</td>\n",
       "      <td>16080</td>\n",
       "      <td>15</td>\n",
       "      <td>3.17</td>\n",
       "      <td>1</td>\n",
       "    </tr>\n",
       "    <tr>\n",
       "      <th>1</th>\n",
       "      <td>8</td>\n",
       "      <td>5400</td>\n",
       "      <td>0</td>\n",
       "      <td>67</td>\n",
       "      <td>28.75</td>\n",
       "      <td>14100</td>\n",
       "      <td>15</td>\n",
       "      <td>0.50</td>\n",
       "      <td>1</td>\n",
       "    </tr>\n",
       "    <tr>\n",
       "      <th>2</th>\n",
       "      <td>9</td>\n",
       "      <td>5040</td>\n",
       "      <td>0</td>\n",
       "      <td>96</td>\n",
       "      <td>27.42</td>\n",
       "      <td>12420</td>\n",
       "      <td>15</td>\n",
       "      <td>1.17</td>\n",
       "      <td>1</td>\n",
       "    </tr>\n",
       "    <tr>\n",
       "      <th>3</th>\n",
       "      <td>11</td>\n",
       "      <td>6300</td>\n",
       "      <td>0</td>\n",
       "      <td>84</td>\n",
       "      <td>33.50</td>\n",
       "      <td>15720</td>\n",
       "      <td>15</td>\n",
       "      <td>6.00</td>\n",
       "      <td>1</td>\n",
       "    </tr>\n",
       "    <tr>\n",
       "      <th>4</th>\n",
       "      <td>12</td>\n",
       "      <td>6000</td>\n",
       "      <td>0</td>\n",
       "      <td>88</td>\n",
       "      <td>54.33</td>\n",
       "      <td>8880</td>\n",
       "      <td>12</td>\n",
       "      <td>27.00</td>\n",
       "      <td>1</td>\n",
       "    </tr>\n",
       "  </tbody>\n",
       "</table>\n",
       "</div>"
      ],
      "text/plain": [
       "   id  salbeg  sex  time    age  salnow  edlevel   work  jobcat\n",
       "0   7    6900    0    79  28.00   16080       15   3.17       1\n",
       "1   8    5400    0    67  28.75   14100       15   0.50       1\n",
       "2   9    5040    0    96  27.42   12420       15   1.17       1\n",
       "3  11    6300    0    84  33.50   15720       15   6.00       1\n",
       "4  12    6000    0    88  54.33    8880       12  27.00       1"
      ]
     },
     "execution_count": 1,
     "metadata": {},
     "output_type": "execute_result"
    }
   ],
   "source": [
    "import pandas as pd \n",
    "import numpy as np \n",
    "from sklearn.model_selection import train_test_split\n",
    "from sklearn.metrics import accuracy_score\n",
    "# from __future__ import division, print_function, unicode_literals\n",
    "from sklearn import tree\n",
    "import pandas as pd \n",
    "import statsmodels.formula.api as smf\n",
    "# from __future__ import division, print_function, unicode_literals\n",
    "import numpy as np \n",
    "import matplotlib.pyplot as plt\n",
    "salary = pd.read_csv(\"salary.csv\")\n",
    "salary.head()"
   ]
  },
  {
   "cell_type": "code",
   "execution_count": 0,
   "metadata": {
    "colab": {},
    "colab_type": "code",
    "id": "qTovYr4NoxOe"
   },
   "outputs": [],
   "source": [
    "# Initialise and fit linear regression model using `statsmodels`\n",
    "model1 = smf.ols('salnow ~ salbeg', data = salary)\n",
    "model1 = model1.fit()\n",
    "model1.params # Intecept & Slope"
   ]
  },
  {
   "cell_type": "code",
   "execution_count": 0,
   "metadata": {
    "colab": {},
    "colab_type": "code",
    "id": "-E-aWTazoxPA"
   },
   "outputs": [],
   "source": [
    "# Predict values\n",
    "salary_now = model1.predict()\n",
    "# Plot regression against actual data\n",
    "plt.figure(figsize=(12, 6))\n",
    "plt.plot(salary['salbeg'], salary['salnow'], 'o')           # scatter plot showing actual data\n",
    "plt.plot(salary['salbeg'], salary_now, 'r', linewidth=2)   # regression line\n",
    "plt.xlabel('Salary begin ')\n",
    "plt.ylabel('Sales now')\n",
    "plt.title('Salnow vs Salbegin')\n",
    "plt.show()"
   ]
  },
  {
   "cell_type": "code",
   "execution_count": 0,
   "metadata": {
    "colab": {},
    "colab_type": "code",
    "id": "9muk0xjVoxPZ"
   },
   "outputs": [],
   "source": [
    "new_salarybegin = 5000\n",
    "model1.predict({\"salbeg\": new_salarybegin})"
   ]
  },
  {
   "cell_type": "code",
   "execution_count": 0,
   "metadata": {
    "colab": {},
    "colab_type": "code",
    "id": "LZfZ058UoxPu"
   },
   "outputs": [],
   "source": [
    "from sklearn.linear_model import LinearRegression\n",
    "# Build linear regression model using TV and Radio as predictors\n",
    "# Split data into predictors X and output Y\n",
    "predictors = ['salbeg', 'work']\n",
    "X = salary[predictors]\n",
    "y = salary['salnow']\n",
    "# Initialise and fit model\n",
    "lm = LinearRegression()\n",
    "model2 = lm.fit(X, y)"
   ]
  },
  {
   "cell_type": "code",
   "execution_count": 0,
   "metadata": {
    "colab": {},
    "colab_type": "code",
    "id": "KaWRZqADoxQE"
   },
   "outputs": [],
   "source": [
    "print(f'alpha = {model2.intercept_}')\n",
    "print(f'betas = {model2.coef_}')"
   ]
  },
  {
   "cell_type": "code",
   "execution_count": 0,
   "metadata": {
    "colab": {},
    "colab_type": "code",
    "id": "jP1F5_0poxQa"
   },
   "outputs": [],
   "source": [
    "from sklearn import tree\n",
    "import pandas as pd \n",
    "from sklearn.model_selection import train_test_split\n",
    "from sklearn.metrics import accuracy_score\n",
    "import statsmodels.formula.api as smf\n",
    "# from __future__ import division, print_function, unicode_literals\n",
    "import numpy as np \n",
    "import matplotlib.pyplot as plt\n",
    "salary = pd.read_csv(\"D://Datasets/Data_Analysis/salary.csv\")\n",
    "salary.head()"
   ]
  },
  {
   "cell_type": "code",
   "execution_count": 0,
   "metadata": {
    "colab": {},
    "colab_type": "code",
    "id": "_kj3kpwgoxQp"
   },
   "outputs": [],
   "source": [
    "import statsmodels.formula.api as smf\n",
    "# Initialise and fit linear regression model using `statsmodels`\n",
    "model = smf.ols('salnow ~ salbeg', data = salary)\n",
    "model = model.fit()\n",
    "model.params # Intecept & Slope"
   ]
  },
  {
   "cell_type": "code",
   "execution_count": 0,
   "metadata": {
    "colab": {},
    "colab_type": "code",
    "id": "f5TWJafXoxQ4"
   },
   "outputs": [],
   "source": [
    "# Predict values\n",
    "salary_now = model.predict()\n",
    "# Plot regression against actual data\n",
    "plt.figure(figsize=(12, 6))\n",
    "plt.plot(salary['salbeg'], salary['salnow'], 'o')           # scatter plot showing actual data\n",
    "plt.plot(salary['salbeg'], salary_now, 'r', linewidth=2)   # regression line\n",
    "plt.xlabel('Salary begin ')\n",
    "plt.ylabel('Sales now')\n",
    "plt.title('Salnow vs Salbegin')\n",
    "plt.show()"
   ]
  },
  {
   "cell_type": "code",
   "execution_count": 0,
   "metadata": {
    "colab": {},
    "colab_type": "code",
    "id": "HkSfbljyoxRK"
   },
   "outputs": [],
   "source": [
    "new_salarybegin = 5000\n",
    "model.predict({\"salbeg\": new_salarybegin})"
   ]
  },
  {
   "cell_type": "code",
   "execution_count": 0,
   "metadata": {
    "colab": {},
    "colab_type": "code",
    "id": "lmOLqVm4oxRe"
   },
   "outputs": [],
   "source": [
    "from sklearn.linear_model import LinearRegression\n",
    "# Build linear regression model using TV and Radio as predictors\n",
    "# Split data into predictors X and output Y\n",
    "predictors = ['salbeg']\n",
    "X = salary[predictors]\n",
    "y = salary['salnow']\n",
    "# Initialise and fit model\n",
    "lm = LinearRegression()\n",
    "model2 = lm.fit(X, y)"
   ]
  },
  {
   "cell_type": "code",
   "execution_count": 0,
   "metadata": {
    "colab": {},
    "colab_type": "code",
    "id": "_fnu1CjooxRw"
   },
   "outputs": [],
   "source": [
    "print(f'alpha = {model2.intercept_}')\n",
    "print(f'betas = {model2.coef_}')\n",
    "model2.intercept_\n",
    "model2.coef_"
   ]
  },
  {
   "cell_type": "code",
   "execution_count": 0,
   "metadata": {
    "colab": {},
    "colab_type": "code",
    "id": "T_m97M3YoxSC"
   },
   "outputs": [],
   "source": [
    "from sklearn.linear_model import LinearRegression\n",
    "# Build linear regression model using TV and Radio as predictors\n",
    "# Split data into predictors X and output Y\n",
    "predictors = ['salbeg','work','time']\n",
    "X = salary[predictors]\n",
    "y = salary['salnow']\n",
    "# Initialise and fit model\n",
    "lm = LinearRegression()\n",
    "model3 = lm.fit(X, y)"
   ]
  },
  {
   "cell_type": "code",
   "execution_count": 0,
   "metadata": {
    "colab": {},
    "colab_type": "code",
    "id": "s0vfXgUooxSe"
   },
   "outputs": [],
   "source": [
    "print(f'alpha = {model3.intercept_}')\n",
    "print(f'betas = {model3.coef_}')"
   ]
  },
  {
   "cell_type": "code",
   "execution_count": 0,
   "metadata": {
    "colab": {},
    "colab_type": "code",
    "id": "WIMXi4gHoxSt"
   },
   "outputs": [],
   "source": [
    "new_X = [[300, 200,30]]\n",
    "print(model3.predict(new_X))"
   ]
  },
  {
   "cell_type": "code",
   "execution_count": 2,
   "metadata": {
    "colab": {},
    "colab_type": "code",
    "id": "nPCRs3z1oxS-"
   },
   "outputs": [
    {
     "ename": "NameError",
     "evalue": "name 'model3' is not defined",
     "output_type": "error",
     "traceback": [
      "\u001b[1;31m---------------------------------------------------------------------------\u001b[0m",
      "\u001b[1;31mNameError\u001b[0m                                 Traceback (most recent call last)",
      "\u001b[1;32m<ipython-input-2-33b1bebe1c84>\u001b[0m in \u001b[0;36m<module>\u001b[1;34m\u001b[0m\n\u001b[1;32m----> 1\u001b[1;33m \u001b[0mmodel3\u001b[0m\u001b[1;33m.\u001b[0m\u001b[0mpredict\u001b[0m\u001b[1;33m(\u001b[0m\u001b[0mX\u001b[0m\u001b[1;33m)\u001b[0m\u001b[1;33m\u001b[0m\u001b[1;33m\u001b[0m\u001b[0m\n\u001b[0m",
      "\u001b[1;31mNameError\u001b[0m: name 'model3' is not defined"
     ]
    }
   ],
   "source": [
    "model3.predict(X)"
   ]
  },
  {
   "cell_type": "code",
   "execution_count": 0,
   "metadata": {
    "colab": {},
    "colab_type": "code",
    "id": "yOt6bmjLoxTQ"
   },
   "outputs": [],
   "source": []
  },
  {
   "cell_type": "code",
   "execution_count": 0,
   "metadata": {
    "colab": {},
    "colab_type": "code",
    "id": "Zph3z-dIoxTf"
   },
   "outputs": [],
   "source": []
  }
 ],
 "metadata": {
  "colab": {
   "name": "LinearRegression.ipynb",
   "provenance": []
  },
  "kernelspec": {
   "display_name": "Python 3",
   "language": "python",
   "name": "python3"
  },
  "language_info": {
   "codemirror_mode": {
    "name": "ipython",
    "version": 3
   },
   "file_extension": ".py",
   "mimetype": "text/x-python",
   "name": "python",
   "nbconvert_exporter": "python",
   "pygments_lexer": "ipython3",
   "version": "3.7.6"
  }
 },
 "nbformat": 4,
 "nbformat_minor": 1
}
