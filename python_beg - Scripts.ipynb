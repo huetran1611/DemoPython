{
 "cells": [
  {
   "cell_type": "code",
   "execution_count": null,
   "metadata": {},
   "outputs": [],
   "source": [
    "print(\"Chuong trinh dau tien\")\n",
    "print(\"Hello\")"
   ]
  },
  {
   "cell_type": "markdown",
   "metadata": {},
   "source": [
    "# This is heading"
   ]
  },
  {
   "cell_type": "raw",
   "metadata": {},
   "source": [
    "Abc"
   ]
  },
  {
   "cell_type": "markdown",
   "metadata": {},
   "source": [
    "# Heading"
   ]
  },
  {
   "cell_type": "markdown",
   "metadata": {},
   "source": [
    "**This is abc"
   ]
  },
  {
   "cell_type": "markdown",
   "metadata": {},
   "source": [
    "***Bac"
   ]
  },
  {
   "cell_type": "markdown",
   "metadata": {},
   "source": [
    "--Striking"
   ]
  },
  {
   "cell_type": "markdown",
   "metadata": {},
   "source": [
    "# Heading 2"
   ]
  },
  {
   "cell_type": "markdown",
   "metadata": {},
   "source": [
    "### Heading 3"
   ]
  },
  {
   "cell_type": "markdown",
   "metadata": {},
   "source": [
    "## Heading 2"
   ]
  },
  {
   "cell_type": "code",
   "execution_count": 2,
   "metadata": {},
   "outputs": [
    {
     "name": "stdout",
     "output_type": "stream",
     "text": [
      "Hello\n"
     ]
    }
   ],
   "source": [
    "print(\"Hello\")"
   ]
  },
  {
   "cell_type": "code",
   "execution_count": 3,
   "metadata": {},
   "outputs": [
    {
     "data": {
      "text/plain": [
       "12.5"
      ]
     },
     "execution_count": 3,
     "metadata": {},
     "output_type": "execute_result"
    }
   ],
   "source": [
    "25*(1/2)"
   ]
  },
  {
   "cell_type": "code",
   "execution_count": 4,
   "metadata": {},
   "outputs": [
    {
     "data": {
      "text/plain": [
       "5.0"
      ]
     },
     "execution_count": 4,
     "metadata": {},
     "output_type": "execute_result"
    }
   ],
   "source": [
    "25**(1/2)"
   ]
  },
  {
   "cell_type": "code",
   "execution_count": 5,
   "metadata": {},
   "outputs": [
    {
     "data": {
      "text/plain": [
       "5.0"
      ]
     },
     "execution_count": 5,
     "metadata": {},
     "output_type": "execute_result"
    }
   ],
   "source": [
    "25**(1/2)"
   ]
  },
  {
   "cell_type": "code",
   "execution_count": 6,
   "metadata": {},
   "outputs": [],
   "source": [
    "city=\"Hanoi\""
   ]
  },
  {
   "cell_type": "code",
   "execution_count": 7,
   "metadata": {},
   "outputs": [
    {
     "data": {
      "text/plain": [
       "'Hanoi'"
      ]
     },
     "execution_count": 7,
     "metadata": {},
     "output_type": "execute_result"
    }
   ],
   "source": [
    "city"
   ]
  },
  {
   "cell_type": "code",
   "execution_count": 8,
   "metadata": {},
   "outputs": [
    {
     "data": {
      "text/plain": [
       "str"
      ]
     },
     "execution_count": 8,
     "metadata": {},
     "output_type": "execute_result"
    }
   ],
   "source": [
    "type(city)"
   ]
  },
  {
   "cell_type": "code",
   "execution_count": 9,
   "metadata": {},
   "outputs": [
    {
     "data": {
      "text/plain": [
       "'10'"
      ]
     },
     "execution_count": 9,
     "metadata": {},
     "output_type": "execute_result"
    }
   ],
   "source": [
    "str(10)"
   ]
  },
  {
   "cell_type": "code",
   "execution_count": 10,
   "metadata": {},
   "outputs": [
    {
     "data": {
      "text/plain": [
       "10.0"
      ]
     },
     "execution_count": 10,
     "metadata": {},
     "output_type": "execute_result"
    }
   ],
   "source": [
    "float(10)"
   ]
  },
  {
   "cell_type": "code",
   "execution_count": 11,
   "metadata": {},
   "outputs": [],
   "source": [
    "x = 10,20,25"
   ]
  },
  {
   "cell_type": "code",
   "execution_count": 12,
   "metadata": {},
   "outputs": [
    {
     "name": "stdout",
     "output_type": "stream",
     "text": [
      "(10, 20, 25)\n"
     ]
    }
   ],
   "source": [
    "print(x)"
   ]
  },
  {
   "cell_type": "code",
   "execution_count": 13,
   "metadata": {},
   "outputs": [
    {
     "data": {
      "text/plain": [
       "(10, 20, 25)"
      ]
     },
     "execution_count": 13,
     "metadata": {},
     "output_type": "execute_result"
    }
   ],
   "source": [
    "x"
   ]
  },
  {
   "cell_type": "code",
   "execution_count": 14,
   "metadata": {},
   "outputs": [],
   "source": [
    "y = (10,'abc')"
   ]
  },
  {
   "cell_type": "code",
   "execution_count": 15,
   "metadata": {},
   "outputs": [
    {
     "data": {
      "text/plain": [
       "(10, 'abc')"
      ]
     },
     "execution_count": 15,
     "metadata": {},
     "output_type": "execute_result"
    }
   ],
   "source": [
    "y"
   ]
  },
  {
   "cell_type": "code",
   "execution_count": 16,
   "metadata": {},
   "outputs": [
    {
     "data": {
      "text/plain": [
       "tuple"
      ]
     },
     "execution_count": 16,
     "metadata": {},
     "output_type": "execute_result"
    }
   ],
   "source": [
    "type(y)"
   ]
  },
  {
   "cell_type": "code",
   "execution_count": 17,
   "metadata": {},
   "outputs": [],
   "source": [
    "#!/usr/bin/python\n",
    "\n",
    "list1 = ['Toán', 'Tin', 1997, 2000,'Ngoại ngữ']\n",
    "list2 = [1, 2, 3, 4, 5, 6, 7 ]\n",
    "list0 = list1 + list2"
   ]
  },
  {
   "cell_type": "code",
   "execution_count": 18,
   "metadata": {},
   "outputs": [
    {
     "data": {
      "text/plain": [
       "['Toán', 'Tin', 1997, 2000, 'Ngoại ngữ', 1, 2, 3, 4, 5, 6, 7]"
      ]
     },
     "execution_count": 18,
     "metadata": {},
     "output_type": "execute_result"
    }
   ],
   "source": [
    "#list1\n",
    "list0"
   ]
  },
  {
   "cell_type": "code",
   "execution_count": 19,
   "metadata": {},
   "outputs": [
    {
     "data": {
      "text/plain": [
       "'Tin'"
      ]
     },
     "execution_count": 19,
     "metadata": {},
     "output_type": "execute_result"
    }
   ],
   "source": [
    "list1[1]"
   ]
  },
  {
   "cell_type": "code",
   "execution_count": 20,
   "metadata": {},
   "outputs": [
    {
     "data": {
      "text/plain": [
       "'Toán'"
      ]
     },
     "execution_count": 20,
     "metadata": {},
     "output_type": "execute_result"
    }
   ],
   "source": [
    "list1[0]"
   ]
  },
  {
   "cell_type": "code",
   "execution_count": 21,
   "metadata": {},
   "outputs": [
    {
     "data": {
      "text/plain": [
       "10"
      ]
     },
     "execution_count": 21,
     "metadata": {},
     "output_type": "execute_result"
    }
   ],
   "source": [
    "y[0]"
   ]
  },
  {
   "cell_type": "code",
   "execution_count": 22,
   "metadata": {},
   "outputs": [
    {
     "data": {
      "text/plain": [
       "'abc'"
      ]
     },
     "execution_count": 22,
     "metadata": {},
     "output_type": "execute_result"
    }
   ],
   "source": [
    "y[1]"
   ]
  },
  {
   "cell_type": "code",
   "execution_count": 23,
   "metadata": {},
   "outputs": [
    {
     "name": "stdout",
     "output_type": "stream",
     "text": [
      "list1[0]:  Toán\n"
     ]
    }
   ],
   "source": [
    "print (\"list1[0]: \", list1[0])"
   ]
  },
  {
   "cell_type": "code",
   "execution_count": 24,
   "metadata": {},
   "outputs": [
    {
     "name": "stdout",
     "output_type": "stream",
     "text": [
      "Value available at index 2 : \n",
      "1997\n",
      "New value available at index 2 : \n",
      "2019\n"
     ]
    }
   ],
   "source": [
    "list = ['Tin', 'Toán', 1997, 2000];\n",
    "print (\"Value available at index 2 : \");\n",
    "print (list[2]);\n",
    "list[2] = 2019;\n",
    "print (\"New value available at index 2 : \");\n",
    "print (list[2]);"
   ]
  },
  {
   "cell_type": "code",
   "execution_count": 25,
   "metadata": {},
   "outputs": [
    {
     "name": "stdout",
     "output_type": "stream",
     "text": [
      "['Tin', 'Toán', 2019, 2000]\n"
     ]
    },
    {
     "data": {
      "text/plain": [
       "['Tin', 'Toán', 2019]"
      ]
     },
     "execution_count": 25,
     "metadata": {},
     "output_type": "execute_result"
    }
   ],
   "source": [
    "print(list);\n",
    "list[:3]"
   ]
  },
  {
   "cell_type": "code",
   "execution_count": 26,
   "metadata": {},
   "outputs": [
    {
     "data": {
      "text/plain": [
       "['Toán']"
      ]
     },
     "execution_count": 26,
     "metadata": {},
     "output_type": "execute_result"
    }
   ],
   "source": [
    "list[1:2]"
   ]
  },
  {
   "cell_type": "code",
   "execution_count": 27,
   "metadata": {},
   "outputs": [
    {
     "data": {
      "text/plain": [
       "['Tin', 2019]"
      ]
     },
     "execution_count": 27,
     "metadata": {},
     "output_type": "execute_result"
    }
   ],
   "source": [
    "list[0::2]"
   ]
  },
  {
   "cell_type": "code",
   "execution_count": 28,
   "metadata": {},
   "outputs": [
    {
     "data": {
      "text/plain": [
       "['Toán', 2019]"
      ]
     },
     "execution_count": 28,
     "metadata": {},
     "output_type": "execute_result"
    }
   ],
   "source": [
    "list[1:3]"
   ]
  },
  {
   "cell_type": "code",
   "execution_count": 29,
   "metadata": {},
   "outputs": [
    {
     "data": {
      "text/plain": [
       "['Toán', 2019, 2000]"
      ]
     },
     "execution_count": 29,
     "metadata": {},
     "output_type": "execute_result"
    }
   ],
   "source": [
    "list[1:]"
   ]
  },
  {
   "cell_type": "code",
   "execution_count": 30,
   "metadata": {},
   "outputs": [
    {
     "data": {
      "text/plain": [
       "[2019, 2000]"
      ]
     },
     "execution_count": 30,
     "metadata": {},
     "output_type": "execute_result"
    }
   ],
   "source": [
    "list[2:]"
   ]
  },
  {
   "cell_type": "code",
   "execution_count": 31,
   "metadata": {},
   "outputs": [
    {
     "data": {
      "text/plain": [
       "['Tin', 'Toán', 2019]"
      ]
     },
     "execution_count": 31,
     "metadata": {},
     "output_type": "execute_result"
    }
   ],
   "source": [
    "list[:3]"
   ]
  },
  {
   "cell_type": "code",
   "execution_count": 32,
   "metadata": {},
   "outputs": [
    {
     "data": {
      "text/plain": [
       "['Tin']"
      ]
     },
     "execution_count": 32,
     "metadata": {},
     "output_type": "execute_result"
    }
   ],
   "source": [
    "list[:1]"
   ]
  },
  {
   "cell_type": "code",
   "execution_count": 33,
   "metadata": {},
   "outputs": [
    {
     "data": {
      "text/plain": [
       "1300211423496"
      ]
     },
     "execution_count": 33,
     "metadata": {},
     "output_type": "execute_result"
    }
   ],
   "source": [
    "id(list)"
   ]
  },
  {
   "cell_type": "code",
   "execution_count": 34,
   "metadata": {},
   "outputs": [
    {
     "data": {
      "text/plain": [
       "1300212854912"
      ]
     },
     "execution_count": 34,
     "metadata": {},
     "output_type": "execute_result"
    }
   ],
   "source": [
    "id(list[1])"
   ]
  },
  {
   "cell_type": "code",
   "execution_count": 35,
   "metadata": {},
   "outputs": [
    {
     "data": {
      "text/plain": [
       "['Toán', 2000]"
      ]
     },
     "execution_count": 35,
     "metadata": {},
     "output_type": "execute_result"
    }
   ],
   "source": [
    "list[1:4:2]"
   ]
  },
  {
   "cell_type": "code",
   "execution_count": 36,
   "metadata": {},
   "outputs": [
    {
     "name": "stdout",
     "output_type": "stream",
     "text": [
      "{'apple': 'green', 'banana': 'yellow', 'cherry': 'red'}\n"
     ]
    }
   ],
   "source": [
    "thisdict = {\n",
    "  \"apple\": \"green\",\n",
    "  \"banana\": \"yellow\",\n",
    "  \"cherry\": \"red\"\n",
    "}\n",
    "print(thisdict)"
   ]
  },
  {
   "cell_type": "code",
   "execution_count": 37,
   "metadata": {},
   "outputs": [
    {
     "name": "stdout",
     "output_type": "stream",
     "text": [
      "{'apple': 'green', 'banana': 'yellow', 'cherry': 'red'}\n"
     ]
    }
   ],
   "source": [
    "thisdict = dict(apple=\"green\", banana=\"yellow\", cherry=\"red\")\n",
    "# note that keywords are not string literals\n",
    "# note the use of equals rather than colon for the assignment\n",
    "print(thisdict)"
   ]
  },
  {
   "cell_type": "code",
   "execution_count": 38,
   "metadata": {
    "scrolled": true
   },
   "outputs": [
    {
     "name": "stdout",
     "output_type": "stream",
     "text": [
      "{'apple': 'green', 'cherry': 'red'}\n"
     ]
    }
   ],
   "source": [
    "thisdict = dict(apple=\"green\", banana=\"yellow\", cherry=\"red\")\n",
    "del(thisdict[\"banana\"])\n",
    "print(thisdict)"
   ]
  },
  {
   "cell_type": "code",
   "execution_count": 39,
   "metadata": {},
   "outputs": [
    {
     "data": {
      "text/plain": [
       "'green'"
      ]
     },
     "execution_count": 39,
     "metadata": {},
     "output_type": "execute_result"
    }
   ],
   "source": [
    "thisdict[\"apple\"]"
   ]
  },
  {
   "cell_type": "code",
   "execution_count": 40,
   "metadata": {},
   "outputs": [
    {
     "name": "stdout",
     "output_type": "stream",
     "text": [
      "a and b are equal\n"
     ]
    }
   ],
   "source": [
    "a = 33\n",
    "b = 33\n",
    "if b > a:\n",
    " print(\"b is greater than a\")\n",
    "elif a == b:\n",
    " print(\"a and b are equal\")"
   ]
  },
  {
   "cell_type": "code",
   "execution_count": 41,
   "metadata": {},
   "outputs": [],
   "source": [
    "def AddNum(x,y):\n",
    "\tresult = x + y\n",
    "\treturn(result)"
   ]
  },
  {
   "cell_type": "code",
   "execution_count": 42,
   "metadata": {},
   "outputs": [
    {
     "data": {
      "text/plain": [
       "22"
      ]
     },
     "execution_count": 42,
     "metadata": {},
     "output_type": "execute_result"
    }
   ],
   "source": [
    "AddNum(10,12)"
   ]
  },
  {
   "cell_type": "code",
   "execution_count": 43,
   "metadata": {},
   "outputs": [],
   "source": [
    "def AddNum1(*args):\n",
    "  # *args \n",
    "  print(args)"
   ]
  },
  {
   "cell_type": "code",
   "execution_count": 44,
   "metadata": {},
   "outputs": [
    {
     "name": "stdout",
     "output_type": "stream",
     "text": [
      "([8, 9, 10],)\n"
     ]
    }
   ],
   "source": [
    "AddNum1([8,9,10])"
   ]
  },
  {
   "cell_type": "code",
   "execution_count": 3,
   "metadata": {},
   "outputs": [],
   "source": [
    "import numpy as np\n",
    "import pandas as pd\n"
   ]
  },
  {
   "cell_type": "code",
   "execution_count": 4,
   "metadata": {},
   "outputs": [],
   "source": [
    "s = pd.Series(np.random.randn(5), index=['a', 'b', 'c', 'd', 'e'])"
   ]
  },
  {
   "cell_type": "code",
   "execution_count": 5,
   "metadata": {},
   "outputs": [
    {
     "data": {
      "text/plain": [
       "a   -0.896060\n",
       "b   -0.537762\n",
       "c   -0.280396\n",
       "d   -1.920711\n",
       "e   -0.041275\n",
       "dtype: float64"
      ]
     },
     "execution_count": 5,
     "metadata": {},
     "output_type": "execute_result"
    }
   ],
   "source": [
    "s"
   ]
  },
  {
   "cell_type": "code",
   "execution_count": null,
   "metadata": {},
   "outputs": [],
   "source": [
    "a = 33\n",
    "b = 33\n",
    "if b > a:\n",
    " print(\"b is greater than a\")\n",
    "elif a == b:\n",
    " print(\"a and b are equal\")"
   ]
  },
  {
   "cell_type": "code",
   "execution_count": null,
   "metadata": {},
   "outputs": [],
   "source": [
    "import numpy as np"
   ]
  },
  {
   "cell_type": "code",
   "execution_count": null,
   "metadata": {},
   "outputs": [],
   "source": [
    "s.loc[\"d\"]"
   ]
  },
  {
   "cell_type": "code",
   "execution_count": null,
   "metadata": {},
   "outputs": [],
   "source": [
    "s1 = pd.Series(np.random.randn(5), name='something')"
   ]
  },
  {
   "cell_type": "code",
   "execution_count": null,
   "metadata": {},
   "outputs": [],
   "source": [
    "s1"
   ]
  },
  {
   "cell_type": "code",
   "execution_count": null,
   "metadata": {},
   "outputs": [],
   "source": [
    "s1.loc[1]"
   ]
  },
  {
   "cell_type": "code",
   "execution_count": null,
   "metadata": {},
   "outputs": [],
   "source": [
    "s1.loc[(s1>0.5)]"
   ]
  },
  {
   "cell_type": "code",
   "execution_count": null,
   "metadata": {},
   "outputs": [],
   "source": []
  },
  {
   "cell_type": "code",
   "execution_count": null,
   "metadata": {},
   "outputs": [],
   "source": [
    "s1.loc[(s1>0.5) & (s1 <0.9)]"
   ]
  },
  {
   "cell_type": "code",
   "execution_count": null,
   "metadata": {},
   "outputs": [],
   "source": [
    "# How to list all Attributes\n",
    "dir(s1)"
   ]
  },
  {
   "cell_type": "code",
   "execution_count": null,
   "metadata": {},
   "outputs": [],
   "source": [
    "dir(list)"
   ]
  },
  {
   "cell_type": "code",
   "execution_count": null,
   "metadata": {},
   "outputs": [],
   "source": [
    "dir(list)"
   ]
  },
  {
   "cell_type": "code",
   "execution_count": null,
   "metadata": {},
   "outputs": [],
   "source": [
    "# pandas.core.frame.DataFrame\n",
    "# Khi doc du lieu tu File, vi du File CSV hoac cac dang DB duoi day, du lieu ca file se duoc dua vao Data Frame\n",
    "# csv / Text\n",
    "# Excel file\n",
    "# DBMS\n",
    "# SAS"
   ]
  },
  {
   "cell_type": "code",
   "execution_count": null,
   "metadata": {},
   "outputs": [],
   "source": [
    "a = np.array([1.0, 2.0, 3.0])"
   ]
  },
  {
   "cell_type": "code",
   "execution_count": null,
   "metadata": {},
   "outputs": [],
   "source": [
    "np.array([2.0, 2.0, 2.0])"
   ]
  },
  {
   "cell_type": "code",
   "execution_count": null,
   "metadata": {},
   "outputs": [],
   "source": [
    "a * b"
   ]
  },
  {
   "cell_type": "code",
   "execution_count": null,
   "metadata": {},
   "outputs": [],
   "source": [
    "import pandas as pd\n",
    "table1 = pd.read_csv(\"D:\\Datasets\\Big Data\\Credit_test.csv\",sep=\",\")"
   ]
  },
  {
   "cell_type": "code",
   "execution_count": null,
   "metadata": {},
   "outputs": [],
   "source": [
    "table1"
   ]
  },
  {
   "cell_type": "code",
   "execution_count": null,
   "metadata": {},
   "outputs": [],
   "source": [
    "table2 = pd.read_csv(\"D:\\Datasets\\Big Data\\Credit_test.csv\",sep=\",\")"
   ]
  },
  {
   "cell_type": "code",
   "execution_count": null,
   "metadata": {
    "scrolled": true
   },
   "outputs": [],
   "source": [
    "table2"
   ]
  },
  {
   "cell_type": "code",
   "execution_count": null,
   "metadata": {},
   "outputs": [],
   "source": [
    "table3 = pd.read_csv(\"D:\\Datasets\\Big Data\\Credit_test.csv\",sep=\",\")"
   ]
  },
  {
   "cell_type": "code",
   "execution_count": null,
   "metadata": {
    "scrolled": true
   },
   "outputs": [],
   "source": [
    "table3"
   ]
  },
  {
   "cell_type": "code",
   "execution_count": null,
   "metadata": {},
   "outputs": [],
   "source": [
    "table3.columns"
   ]
  },
  {
   "cell_type": "code",
   "execution_count": null,
   "metadata": {},
   "outputs": [],
   "source": [
    "table3.shape # (num of rows, num of columns)"
   ]
  },
  {
   "cell_type": "code",
   "execution_count": null,
   "metadata": {},
   "outputs": [],
   "source": [
    "nrows = table3.shape[0]\n",
    "ncolumns = table3.shape[1]"
   ]
  },
  {
   "cell_type": "code",
   "execution_count": null,
   "metadata": {},
   "outputs": [],
   "source": [
    "print(nrows)"
   ]
  },
  {
   "cell_type": "code",
   "execution_count": null,
   "metadata": {},
   "outputs": [],
   "source": [
    "dir(table3)"
   ]
  },
  {
   "cell_type": "code",
   "execution_count": null,
   "metadata": {},
   "outputs": [],
   "source": [
    "table3.info()\n",
    "# Non - null"
   ]
  },
  {
   "cell_type": "code",
   "execution_count": null,
   "metadata": {
    "scrolled": true
   },
   "outputs": [],
   "source": [
    "table3.describe()"
   ]
  },
  {
   "cell_type": "code",
   "execution_count": null,
   "metadata": {},
   "outputs": [],
   "source": [
    "# 1. Fetching / Select Columns\n",
    "# Using Operater .\n",
    "table3.BUSAGE #Select 1 columns"
   ]
  },
  {
   "cell_type": "code",
   "execution_count": null,
   "metadata": {},
   "outputs": [],
   "source": [
    "# Select Multi Columns\n",
    "table3[[\"BUSAGE\"]]   # Output the Data Frame\n",
    "table3[[\"BUSAGE\",\"MAXLINEUTIL\"]]"
   ]
  },
  {
   "cell_type": "code",
   "execution_count": null,
   "metadata": {},
   "outputs": [],
   "source": [
    "# 1.3 User of Loc and iLoc\n",
    "# table3.loc[,]\n",
    "# [row index/names, column index/names]\n",
    "table3.loc[:,[\"BUSAGE\",\"MAXLINEUTIL\"]]  # : meaning all \"ROWS\""
   ]
  },
  {
   "cell_type": "code",
   "execution_count": null,
   "metadata": {},
   "outputs": [],
   "source": [
    "# Select 1st 10 rows from the table, columns with names \"BUSAGE\",\"MAXLINEUTIL\"\n",
    "table3.loc[0:9,[\"BUSAGE\",\"MAXLINEUTIL\"]]  # Loc get all 0:9 Index"
   ]
  },
  {
   "cell_type": "code",
   "execution_count": null,
   "metadata": {},
   "outputs": [],
   "source": [
    "table3.info()"
   ]
  },
  {
   "cell_type": "code",
   "execution_count": 6,
   "metadata": {},
   "outputs": [],
   "source": [
    "DoB = \"15Dec1970\"\n",
    "# 15 - Day\n",
    "# Dec - Month\n",
    "# Year"
   ]
  },
  {
   "cell_type": "code",
   "execution_count": 7,
   "metadata": {},
   "outputs": [
    {
     "data": {
      "text/plain": [
       "Timestamp('1970-12-15 00:00:00')"
      ]
     },
     "execution_count": 7,
     "metadata": {},
     "output_type": "execute_result"
    }
   ],
   "source": [
    "pd.to_datetime(DoB, format = \"%d%b%Y\")"
   ]
  },
  {
   "cell_type": "code",
   "execution_count": null,
   "metadata": {},
   "outputs": [],
   "source": [
    "DoB = [\"21Mar1990\",\"13Dec1993\",\"17Jan1989\",\"15Jul1970\"]"
   ]
  },
  {
   "cell_type": "code",
   "execution_count": null,
   "metadata": {},
   "outputs": [],
   "source": [
    "pd.to_datetime(DoB, format = \"%d%b%Y\")"
   ]
  },
  {
   "cell_type": "code",
   "execution_count": null,
   "metadata": {},
   "outputs": [],
   "source": [
    "DoB"
   ]
  },
  {
   "cell_type": "code",
   "execution_count": null,
   "metadata": {},
   "outputs": [],
   "source": [
    "# Task\n",
    "# Convert \"\" to datetime\n",
    "# 2. For the above series DoB, caculate age of all the values\n",
    "# Find out to get today's date"
   ]
  },
  {
   "cell_type": "code",
   "execution_count": null,
   "metadata": {},
   "outputs": [],
   "source": [
    "pd.Series(DoB)"
   ]
  },
  {
   "cell_type": "code",
   "execution_count": null,
   "metadata": {},
   "outputs": [],
   "source": [
    "pd.to_datetime(pd.Series(DoB), format = \"%d%b%Y\")"
   ]
  },
  {
   "cell_type": "code",
   "execution_count": null,
   "metadata": {},
   "outputs": [],
   "source": [
    "DoB_date = pd.to_datetime(pd.Series(DoB), format = \"%d%b%Y\")"
   ]
  },
  {
   "cell_type": "code",
   "execution_count": null,
   "metadata": {},
   "outputs": [],
   "source": [
    "type(DoB_date)"
   ]
  },
  {
   "cell_type": "code",
   "execution_count": null,
   "metadata": {},
   "outputs": [],
   "source": [
    "# If any column/Series is datetime object, then \"dt\" get added to it\n",
    "DoB_date.dt\n",
    "\n",
    "print(dir(DoB_date.dt))"
   ]
  },
  {
   "cell_type": "code",
   "execution_count": null,
   "metadata": {},
   "outputs": [],
   "source": [
    "DoB_date.dt.day"
   ]
  },
  {
   "cell_type": "code",
   "execution_count": null,
   "metadata": {},
   "outputs": [],
   "source": [
    "DoB_date.dt.year"
   ]
  },
  {
   "cell_type": "code",
   "execution_count": null,
   "metadata": {},
   "outputs": [],
   "source": [
    "?DoB_date.dt.year\n",
    "?pd.read_csv"
   ]
  },
  {
   "cell_type": "code",
   "execution_count": null,
   "metadata": {},
   "outputs": [],
   "source": [
    "DoB_date.dt.quarter"
   ]
  },
  {
   "cell_type": "code",
   "execution_count": null,
   "metadata": {},
   "outputs": [],
   "source": [
    "# Change or Rename Columns\n",
    "# Rename Columns\n",
    "# {\"OldName - Exiting name\":\"NewName\"}\n",
    "table3.rename(columns = {\"BUSAGE\":\"BUSAGE1\"})\n",
    "# Renaming takes place and result is saved in another table3"
   ]
  },
  {
   "cell_type": "code",
   "execution_count": null,
   "metadata": {},
   "outputs": [],
   "source": [
    "table3"
   ]
  },
  {
   "cell_type": "code",
   "execution_count": null,
   "metadata": {},
   "outputs": [],
   "source": [
    "# Add a Columns\n",
    "# Add TOTAL = TOTACBAL Columns to table3\n",
    "# table3.assign(newcol = ...,newcol2 = ...)\n",
    "table3 = table3.assign(TOTAL = table3.TOTACBAL)"
   ]
  },
  {
   "cell_type": "code",
   "execution_count": null,
   "metadata": {},
   "outputs": [],
   "source": [
    "table3"
   ]
  },
  {
   "cell_type": "code",
   "execution_count": null,
   "metadata": {},
   "outputs": [],
   "source": [
    "table3.drop(columns=\"TOTAL\")"
   ]
  },
  {
   "cell_type": "code",
   "execution_count": null,
   "metadata": {},
   "outputs": [],
   "source": [
    "# Rearraging columns\n",
    "table3 = table3.assign(TOTAL = table3.TOTACBAL)\n",
    "table3.iloc[0:10,[0,1,2]]"
   ]
  },
  {
   "cell_type": "code",
   "execution_count": null,
   "metadata": {},
   "outputs": [],
   "source": [
    "table3.shape"
   ]
  },
  {
   "cell_type": "code",
   "execution_count": null,
   "metadata": {
    "scrolled": true
   },
   "outputs": [],
   "source": [
    "# 0,1,4,3,2,5\n",
    "table3.iloc[0:10,[0,1,4,3,2,5]]"
   ]
  },
  {
   "cell_type": "code",
   "execution_count": null,
   "metadata": {},
   "outputs": [],
   "source": [
    "# 1. Filtering\n",
    "# Task: Get all observation from the city/location\n",
    "subset1 = table3.loc[(table3.BUSTYPE == \"A\"),]\n",
    "#subset1\n",
    "subset1.reset_index(drop=True)"
   ]
  },
  {
   "cell_type": "code",
   "execution_count": null,
   "metadata": {},
   "outputs": [],
   "source": [
    "# Tasks: Get data where TOTACBAL 10000 - 100000\n",
    "subset2 = table3.loc[(table3.TOTACBAL > 10000) & (table3.TOTACBAL < 100000)]\n",
    "#subset2\n",
    "subset2.reset_index(drop=True)"
   ]
  },
  {
   "cell_type": "code",
   "execution_count": null,
   "metadata": {},
   "outputs": [],
   "source": [
    "# Select Columns\n",
    "subset3 = table3.loc[(table3.TOTACBAL > 10000) & (table3.TOTACBAL < 100000),[\"BUSTYPE\",\"TOTACBAL\"]]\n",
    "#subset2\n",
    "subset3.reset_index(drop=True)"
   ]
  },
  {
   "cell_type": "code",
   "execution_count": null,
   "metadata": {},
   "outputs": [],
   "source": [
    "# Sorting\n",
    "subset3.sort_values([\"BUSTYPE\"]).reset_index(drop=True)\n",
    "subset3.sort_values([\"BUSTYPE\"],ascending = True).reset_index(drop=True)"
   ]
  },
  {
   "cell_type": "code",
   "execution_count": null,
   "metadata": {},
   "outputs": [],
   "source": [
    "sort3 = subset3.sort_values([\"BUSTYPE\",\"TOTACBAL\"], ascending=False).reset_index(drop=True)\n",
    "sort3"
   ]
  },
  {
   "cell_type": "code",
   "execution_count": null,
   "metadata": {},
   "outputs": [],
   "source": [
    "sort4 = subset3.sort_values([\"BUSTYPE\",\"TOTACBAL\"], ascending=[True,False]).reset_index(drop=True)\n",
    "sort4\n",
    "\n",
    "# Or\n",
    "sort4 = subset3.sort_values([\"BUSTYPE\",\"TOTACBAL\"], ascending=[1,0]).reset_index(drop=True)\n",
    "sort4"
   ]
  },
  {
   "cell_type": "code",
   "execution_count": null,
   "metadata": {},
   "outputs": [],
   "source": [
    "# Removing redundency\n",
    "score = pd.read_csv(\"D:\\Datasets\\Big Data\\Score.csv\")\n",
    "score"
   ]
  },
  {
   "cell_type": "code",
   "execution_count": null,
   "metadata": {},
   "outputs": [],
   "source": [
    "# Aim: to remove duplicate on a row level\n",
    "#     if all cell values are same, then it's a duplicate\n",
    "\n",
    "# Aim: to remove duplicate respect to a column\n",
    "#     \n",
    "\n",
    "# duplicate() - True if a value is repeated\n",
    "# 1,2,3,2,4,1,2,3\n",
    "# F,F,F,T,F,T,T,T\n",
    "\n",
    "score.loc[-score.duplicated(),]\n",
    "# return all the duplicated values"
   ]
  },
  {
   "cell_type": "code",
   "execution_count": null,
   "metadata": {},
   "outputs": [],
   "source": [
    "score.loc[score.duplicated(),]\n",
    "# return all unique values"
   ]
  },
  {
   "cell_type": "code",
   "execution_count": null,
   "metadata": {},
   "outputs": [],
   "source": [
    "score.loc[score.Student.duplicated(),] #Repeated values"
   ]
  },
  {
   "cell_type": "code",
   "execution_count": null,
   "metadata": {},
   "outputs": [],
   "source": [
    "score.loc[-score.Student.duplicated(),] #Unique values "
   ]
  },
  {
   "cell_type": "code",
   "execution_count": null,
   "metadata": {},
   "outputs": [],
   "source": [
    "score.drop_duplicates()"
   ]
  },
  {
   "cell_type": "code",
   "execution_count": null,
   "metadata": {},
   "outputs": [],
   "source": [
    "score.drop_duplicates([\"Student\"])"
   ]
  },
  {
   "cell_type": "code",
   "execution_count": 8,
   "metadata": {},
   "outputs": [
    {
     "data": {
      "text/html": [
       "<div>\n",
       "<style scoped>\n",
       "    .dataframe tbody tr th:only-of-type {\n",
       "        vertical-align: middle;\n",
       "    }\n",
       "\n",
       "    .dataframe tbody tr th {\n",
       "        vertical-align: top;\n",
       "    }\n",
       "\n",
       "    .dataframe thead th {\n",
       "        text-align: right;\n",
       "    }\n",
       "</style>\n",
       "<table border=\"1\" class=\"dataframe\">\n",
       "  <thead>\n",
       "    <tr style=\"text-align: right;\">\n",
       "      <th></th>\n",
       "      <th>StoreCode</th>\n",
       "      <th>StoreName</th>\n",
       "      <th>StoreType</th>\n",
       "      <th>Location</th>\n",
       "      <th>OperatingCost</th>\n",
       "      <th>Staff_Cnt</th>\n",
       "      <th>TotalSales</th>\n",
       "      <th>Total_Customers</th>\n",
       "      <th>AcqCostPercust</th>\n",
       "      <th>BasketSize</th>\n",
       "      <th>ProfitPercust</th>\n",
       "      <th>OwnStore</th>\n",
       "      <th>OnlinePresence</th>\n",
       "      <th>Tenure</th>\n",
       "      <th>StoreSegment</th>\n",
       "    </tr>\n",
       "  </thead>\n",
       "  <tbody>\n",
       "    <tr>\n",
       "      <th>0</th>\n",
       "      <td>STR101</td>\n",
       "      <td>Electronics Zone</td>\n",
       "      <td>Electronincs</td>\n",
       "      <td>Delhi</td>\n",
       "      <td>21.0</td>\n",
       "      <td>60</td>\n",
       "      <td>160.0</td>\n",
       "      <td>110</td>\n",
       "      <td>3.90</td>\n",
       "      <td>2.620</td>\n",
       "      <td>16.46</td>\n",
       "      <td>0</td>\n",
       "      <td>1</td>\n",
       "      <td>4</td>\n",
       "      <td>4</td>\n",
       "    </tr>\n",
       "    <tr>\n",
       "      <th>1</th>\n",
       "      <td>STR102</td>\n",
       "      <td>Apparel Zone</td>\n",
       "      <td>Apparel</td>\n",
       "      <td>Delhi</td>\n",
       "      <td>21.0</td>\n",
       "      <td>60</td>\n",
       "      <td>160.0</td>\n",
       "      <td>110</td>\n",
       "      <td>3.90</td>\n",
       "      <td>2.875</td>\n",
       "      <td>17.02</td>\n",
       "      <td>0</td>\n",
       "      <td>1</td>\n",
       "      <td>4</td>\n",
       "      <td>4</td>\n",
       "    </tr>\n",
       "    <tr>\n",
       "      <th>2</th>\n",
       "      <td>STR103</td>\n",
       "      <td>Super Bazar</td>\n",
       "      <td>Super Market</td>\n",
       "      <td>Delhi</td>\n",
       "      <td>22.8</td>\n",
       "      <td>40</td>\n",
       "      <td>108.0</td>\n",
       "      <td>93</td>\n",
       "      <td>3.85</td>\n",
       "      <td>2.320</td>\n",
       "      <td>18.61</td>\n",
       "      <td>1</td>\n",
       "      <td>1</td>\n",
       "      <td>4</td>\n",
       "      <td>1</td>\n",
       "    </tr>\n",
       "    <tr>\n",
       "      <th>3</th>\n",
       "      <td>STR104</td>\n",
       "      <td>Super Market</td>\n",
       "      <td>Super Market</td>\n",
       "      <td>Delhi</td>\n",
       "      <td>21.4</td>\n",
       "      <td>60</td>\n",
       "      <td>258.0</td>\n",
       "      <td>110</td>\n",
       "      <td>3.08</td>\n",
       "      <td>3.215</td>\n",
       "      <td>19.44</td>\n",
       "      <td>1</td>\n",
       "      <td>0</td>\n",
       "      <td>3</td>\n",
       "      <td>1</td>\n",
       "    </tr>\n",
       "    <tr>\n",
       "      <th>4</th>\n",
       "      <td>STR105</td>\n",
       "      <td>Central Store</td>\n",
       "      <td>Super Market</td>\n",
       "      <td>Delhi</td>\n",
       "      <td>18.7</td>\n",
       "      <td>80</td>\n",
       "      <td>360.0</td>\n",
       "      <td>175</td>\n",
       "      <td>3.15</td>\n",
       "      <td>3.440</td>\n",
       "      <td>17.02</td>\n",
       "      <td>0</td>\n",
       "      <td>0</td>\n",
       "      <td>3</td>\n",
       "      <td>2</td>\n",
       "    </tr>\n",
       "    <tr>\n",
       "      <th>5</th>\n",
       "      <td>STR106</td>\n",
       "      <td>Apparel Zone</td>\n",
       "      <td>Apparel</td>\n",
       "      <td>Delhi</td>\n",
       "      <td>18.1</td>\n",
       "      <td>60</td>\n",
       "      <td>225.0</td>\n",
       "      <td>105</td>\n",
       "      <td>2.76</td>\n",
       "      <td>3.460</td>\n",
       "      <td>20.22</td>\n",
       "      <td>1</td>\n",
       "      <td>0</td>\n",
       "      <td>3</td>\n",
       "      <td>1</td>\n",
       "    </tr>\n",
       "    <tr>\n",
       "      <th>6</th>\n",
       "      <td>STR107</td>\n",
       "      <td>Fashion Bazar</td>\n",
       "      <td>Apparel</td>\n",
       "      <td>Delhi</td>\n",
       "      <td>14.3</td>\n",
       "      <td>80</td>\n",
       "      <td>360.0</td>\n",
       "      <td>245</td>\n",
       "      <td>3.21</td>\n",
       "      <td>3.570</td>\n",
       "      <td>15.84</td>\n",
       "      <td>0</td>\n",
       "      <td>0</td>\n",
       "      <td>3</td>\n",
       "      <td>4</td>\n",
       "    </tr>\n",
       "    <tr>\n",
       "      <th>7</th>\n",
       "      <td>STR108</td>\n",
       "      <td>Digital Bazar</td>\n",
       "      <td>Electronincs</td>\n",
       "      <td>Delhi</td>\n",
       "      <td>24.4</td>\n",
       "      <td>40</td>\n",
       "      <td>146.7</td>\n",
       "      <td>62</td>\n",
       "      <td>3.69</td>\n",
       "      <td>3.190</td>\n",
       "      <td>20.00</td>\n",
       "      <td>1</td>\n",
       "      <td>0</td>\n",
       "      <td>4</td>\n",
       "      <td>2</td>\n",
       "    </tr>\n",
       "    <tr>\n",
       "      <th>8</th>\n",
       "      <td>STR109</td>\n",
       "      <td>Electronics Zone</td>\n",
       "      <td>Electronincs</td>\n",
       "      <td>Chennai</td>\n",
       "      <td>22.8</td>\n",
       "      <td>40</td>\n",
       "      <td>140.8</td>\n",
       "      <td>95</td>\n",
       "      <td>3.92</td>\n",
       "      <td>3.150</td>\n",
       "      <td>22.90</td>\n",
       "      <td>1</td>\n",
       "      <td>0</td>\n",
       "      <td>4</td>\n",
       "      <td>2</td>\n",
       "    </tr>\n",
       "    <tr>\n",
       "      <th>9</th>\n",
       "      <td>STR110</td>\n",
       "      <td>Apparel Zone</td>\n",
       "      <td>Apparel</td>\n",
       "      <td>Chennai</td>\n",
       "      <td>19.2</td>\n",
       "      <td>60</td>\n",
       "      <td>167.6</td>\n",
       "      <td>123</td>\n",
       "      <td>3.92</td>\n",
       "      <td>3.440</td>\n",
       "      <td>18.30</td>\n",
       "      <td>1</td>\n",
       "      <td>0</td>\n",
       "      <td>4</td>\n",
       "      <td>4</td>\n",
       "    </tr>\n",
       "    <tr>\n",
       "      <th>10</th>\n",
       "      <td>STR111</td>\n",
       "      <td>Super Bazar</td>\n",
       "      <td>Super Market</td>\n",
       "      <td>Chennai</td>\n",
       "      <td>17.8</td>\n",
       "      <td>60</td>\n",
       "      <td>167.6</td>\n",
       "      <td>123</td>\n",
       "      <td>3.92</td>\n",
       "      <td>3.440</td>\n",
       "      <td>18.90</td>\n",
       "      <td>1</td>\n",
       "      <td>0</td>\n",
       "      <td>4</td>\n",
       "      <td>4</td>\n",
       "    </tr>\n",
       "    <tr>\n",
       "      <th>11</th>\n",
       "      <td>STR112</td>\n",
       "      <td>Super Market</td>\n",
       "      <td>Super Market</td>\n",
       "      <td>Chennai</td>\n",
       "      <td>16.4</td>\n",
       "      <td>80</td>\n",
       "      <td>275.8</td>\n",
       "      <td>180</td>\n",
       "      <td>NaN</td>\n",
       "      <td>4.070</td>\n",
       "      <td>17.40</td>\n",
       "      <td>0</td>\n",
       "      <td>0</td>\n",
       "      <td>3</td>\n",
       "      <td>3</td>\n",
       "    </tr>\n",
       "    <tr>\n",
       "      <th>12</th>\n",
       "      <td>STR113</td>\n",
       "      <td>Central Store</td>\n",
       "      <td>Super Market</td>\n",
       "      <td>Chennai</td>\n",
       "      <td>17.3</td>\n",
       "      <td>80</td>\n",
       "      <td>275.8</td>\n",
       "      <td>180</td>\n",
       "      <td>NaN</td>\n",
       "      <td>3.730</td>\n",
       "      <td>17.60</td>\n",
       "      <td>0</td>\n",
       "      <td>0</td>\n",
       "      <td>3</td>\n",
       "      <td>3</td>\n",
       "    </tr>\n",
       "    <tr>\n",
       "      <th>13</th>\n",
       "      <td>STR114</td>\n",
       "      <td>Apparel Zone</td>\n",
       "      <td>Apparel</td>\n",
       "      <td>Chennai</td>\n",
       "      <td>15.2</td>\n",
       "      <td>80</td>\n",
       "      <td>275.8</td>\n",
       "      <td>180</td>\n",
       "      <td>NaN</td>\n",
       "      <td>3.780</td>\n",
       "      <td>18.00</td>\n",
       "      <td>0</td>\n",
       "      <td>0</td>\n",
       "      <td>3</td>\n",
       "      <td>3</td>\n",
       "    </tr>\n",
       "    <tr>\n",
       "      <th>14</th>\n",
       "      <td>STR115</td>\n",
       "      <td>Fashion Bazar</td>\n",
       "      <td>Apparel</td>\n",
       "      <td>Chennai</td>\n",
       "      <td>10.4</td>\n",
       "      <td>80</td>\n",
       "      <td>472.0</td>\n",
       "      <td>205</td>\n",
       "      <td>2.93</td>\n",
       "      <td>5.250</td>\n",
       "      <td>17.98</td>\n",
       "      <td>0</td>\n",
       "      <td>0</td>\n",
       "      <td>3</td>\n",
       "      <td>4</td>\n",
       "    </tr>\n",
       "    <tr>\n",
       "      <th>15</th>\n",
       "      <td>STR116</td>\n",
       "      <td>Digital Bazar</td>\n",
       "      <td>Electronincs</td>\n",
       "      <td>Chennai</td>\n",
       "      <td>10.4</td>\n",
       "      <td>80</td>\n",
       "      <td>460.0</td>\n",
       "      <td>215</td>\n",
       "      <td>3.00</td>\n",
       "      <td>5.424</td>\n",
       "      <td>17.82</td>\n",
       "      <td>0</td>\n",
       "      <td>0</td>\n",
       "      <td>3</td>\n",
       "      <td>4</td>\n",
       "    </tr>\n",
       "    <tr>\n",
       "      <th>16</th>\n",
       "      <td>STR117</td>\n",
       "      <td>Electronics Zone</td>\n",
       "      <td>Electronincs</td>\n",
       "      <td>Mumbai</td>\n",
       "      <td>14.7</td>\n",
       "      <td>80</td>\n",
       "      <td>440.0</td>\n",
       "      <td>230</td>\n",
       "      <td>3.23</td>\n",
       "      <td>5.345</td>\n",
       "      <td>17.42</td>\n",
       "      <td>0</td>\n",
       "      <td>0</td>\n",
       "      <td>3</td>\n",
       "      <td>4</td>\n",
       "    </tr>\n",
       "    <tr>\n",
       "      <th>17</th>\n",
       "      <td>STR118</td>\n",
       "      <td>Apparel Zone</td>\n",
       "      <td>Apparel</td>\n",
       "      <td>Mumbai</td>\n",
       "      <td>32.4</td>\n",
       "      <td>40</td>\n",
       "      <td>78.7</td>\n",
       "      <td>66</td>\n",
       "      <td>4.08</td>\n",
       "      <td>2.200</td>\n",
       "      <td>19.47</td>\n",
       "      <td>1</td>\n",
       "      <td>1</td>\n",
       "      <td>4</td>\n",
       "      <td>1</td>\n",
       "    </tr>\n",
       "    <tr>\n",
       "      <th>18</th>\n",
       "      <td>STR119</td>\n",
       "      <td>Super Bazar</td>\n",
       "      <td>Super Market</td>\n",
       "      <td>Mumbai</td>\n",
       "      <td>30.4</td>\n",
       "      <td>40</td>\n",
       "      <td>75.7</td>\n",
       "      <td>52</td>\n",
       "      <td>4.93</td>\n",
       "      <td>1.615</td>\n",
       "      <td>18.52</td>\n",
       "      <td>1</td>\n",
       "      <td>1</td>\n",
       "      <td>4</td>\n",
       "      <td>2</td>\n",
       "    </tr>\n",
       "    <tr>\n",
       "      <th>19</th>\n",
       "      <td>STR120</td>\n",
       "      <td>Super Market</td>\n",
       "      <td>Super Market</td>\n",
       "      <td>Mumbai</td>\n",
       "      <td>33.9</td>\n",
       "      <td>40</td>\n",
       "      <td>71.1</td>\n",
       "      <td>65</td>\n",
       "      <td>4.22</td>\n",
       "      <td>1.835</td>\n",
       "      <td>19.90</td>\n",
       "      <td>1</td>\n",
       "      <td>1</td>\n",
       "      <td>4</td>\n",
       "      <td>1</td>\n",
       "    </tr>\n",
       "    <tr>\n",
       "      <th>20</th>\n",
       "      <td>STR121</td>\n",
       "      <td>Central Store</td>\n",
       "      <td>Super Market</td>\n",
       "      <td>Mumbai</td>\n",
       "      <td>21.5</td>\n",
       "      <td>40</td>\n",
       "      <td>120.1</td>\n",
       "      <td>97</td>\n",
       "      <td>3.70</td>\n",
       "      <td>2.465</td>\n",
       "      <td>20.01</td>\n",
       "      <td>1</td>\n",
       "      <td>0</td>\n",
       "      <td>3</td>\n",
       "      <td>1</td>\n",
       "    </tr>\n",
       "    <tr>\n",
       "      <th>21</th>\n",
       "      <td>STR122</td>\n",
       "      <td>Apparel Zone</td>\n",
       "      <td>Apparel</td>\n",
       "      <td>Mumbai</td>\n",
       "      <td>15.5</td>\n",
       "      <td>80</td>\n",
       "      <td>318.0</td>\n",
       "      <td>150</td>\n",
       "      <td>2.76</td>\n",
       "      <td>3.520</td>\n",
       "      <td>16.87</td>\n",
       "      <td>0</td>\n",
       "      <td>0</td>\n",
       "      <td>3</td>\n",
       "      <td>2</td>\n",
       "    </tr>\n",
       "    <tr>\n",
       "      <th>22</th>\n",
       "      <td>STR123</td>\n",
       "      <td>Fashion Bazar</td>\n",
       "      <td>Apparel</td>\n",
       "      <td>Mumbai</td>\n",
       "      <td>15.2</td>\n",
       "      <td>80</td>\n",
       "      <td>304.0</td>\n",
       "      <td>150</td>\n",
       "      <td>3.15</td>\n",
       "      <td>3.435</td>\n",
       "      <td>17.30</td>\n",
       "      <td>0</td>\n",
       "      <td>0</td>\n",
       "      <td>3</td>\n",
       "      <td>2</td>\n",
       "    </tr>\n",
       "    <tr>\n",
       "      <th>23</th>\n",
       "      <td>STR124</td>\n",
       "      <td>Digital Bazar</td>\n",
       "      <td>Electronincs</td>\n",
       "      <td>Mumbai</td>\n",
       "      <td>13.3</td>\n",
       "      <td>80</td>\n",
       "      <td>350.0</td>\n",
       "      <td>245</td>\n",
       "      <td>3.73</td>\n",
       "      <td>3.840</td>\n",
       "      <td>15.41</td>\n",
       "      <td>0</td>\n",
       "      <td>0</td>\n",
       "      <td>3</td>\n",
       "      <td>4</td>\n",
       "    </tr>\n",
       "    <tr>\n",
       "      <th>24</th>\n",
       "      <td>STR125</td>\n",
       "      <td>Electronics Zone</td>\n",
       "      <td>Electronincs</td>\n",
       "      <td>Kolkata</td>\n",
       "      <td>19.2</td>\n",
       "      <td>80</td>\n",
       "      <td>400.0</td>\n",
       "      <td>175</td>\n",
       "      <td>3.08</td>\n",
       "      <td>3.845</td>\n",
       "      <td>17.05</td>\n",
       "      <td>0</td>\n",
       "      <td>0</td>\n",
       "      <td>3</td>\n",
       "      <td>2</td>\n",
       "    </tr>\n",
       "    <tr>\n",
       "      <th>25</th>\n",
       "      <td>STR126</td>\n",
       "      <td>Apparel Zone</td>\n",
       "      <td>Apparel</td>\n",
       "      <td>Kolkata</td>\n",
       "      <td>27.3</td>\n",
       "      <td>40</td>\n",
       "      <td>79.0</td>\n",
       "      <td>66</td>\n",
       "      <td>4.08</td>\n",
       "      <td>1.935</td>\n",
       "      <td>18.90</td>\n",
       "      <td>1</td>\n",
       "      <td>1</td>\n",
       "      <td>4</td>\n",
       "      <td>1</td>\n",
       "    </tr>\n",
       "    <tr>\n",
       "      <th>26</th>\n",
       "      <td>STR127</td>\n",
       "      <td>Super Bazar</td>\n",
       "      <td>Super Market</td>\n",
       "      <td>Kolkata</td>\n",
       "      <td>26.0</td>\n",
       "      <td>40</td>\n",
       "      <td>120.3</td>\n",
       "      <td>91</td>\n",
       "      <td>4.43</td>\n",
       "      <td>2.140</td>\n",
       "      <td>16.70</td>\n",
       "      <td>0</td>\n",
       "      <td>1</td>\n",
       "      <td>5</td>\n",
       "      <td>2</td>\n",
       "    </tr>\n",
       "    <tr>\n",
       "      <th>27</th>\n",
       "      <td>STR128</td>\n",
       "      <td>Super Market</td>\n",
       "      <td>Super Market</td>\n",
       "      <td>Kolkata</td>\n",
       "      <td>30.4</td>\n",
       "      <td>40</td>\n",
       "      <td>95.1</td>\n",
       "      <td>113</td>\n",
       "      <td>3.77</td>\n",
       "      <td>1.513</td>\n",
       "      <td>16.90</td>\n",
       "      <td>1</td>\n",
       "      <td>1</td>\n",
       "      <td>5</td>\n",
       "      <td>2</td>\n",
       "    </tr>\n",
       "    <tr>\n",
       "      <th>28</th>\n",
       "      <td>STR129</td>\n",
       "      <td>Central Store</td>\n",
       "      <td>Super Market</td>\n",
       "      <td>Kolkata</td>\n",
       "      <td>15.8</td>\n",
       "      <td>80</td>\n",
       "      <td>351.0</td>\n",
       "      <td>264</td>\n",
       "      <td>4.22</td>\n",
       "      <td>3.170</td>\n",
       "      <td>14.50</td>\n",
       "      <td>0</td>\n",
       "      <td>1</td>\n",
       "      <td>5</td>\n",
       "      <td>4</td>\n",
       "    </tr>\n",
       "    <tr>\n",
       "      <th>29</th>\n",
       "      <td>STR130</td>\n",
       "      <td>Apparel Zone</td>\n",
       "      <td>Apparel</td>\n",
       "      <td>Kolkata</td>\n",
       "      <td>19.7</td>\n",
       "      <td>60</td>\n",
       "      <td>145.0</td>\n",
       "      <td>175</td>\n",
       "      <td>3.62</td>\n",
       "      <td>2.770</td>\n",
       "      <td>15.50</td>\n",
       "      <td>0</td>\n",
       "      <td>1</td>\n",
       "      <td>5</td>\n",
       "      <td>4</td>\n",
       "    </tr>\n",
       "    <tr>\n",
       "      <th>30</th>\n",
       "      <td>STR131</td>\n",
       "      <td>Fashion Bazar</td>\n",
       "      <td>Apparel</td>\n",
       "      <td>Kolkata</td>\n",
       "      <td>15.0</td>\n",
       "      <td>80</td>\n",
       "      <td>301.0</td>\n",
       "      <td>335</td>\n",
       "      <td>3.54</td>\n",
       "      <td>3.570</td>\n",
       "      <td>14.60</td>\n",
       "      <td>0</td>\n",
       "      <td>1</td>\n",
       "      <td>5</td>\n",
       "      <td>4</td>\n",
       "    </tr>\n",
       "    <tr>\n",
       "      <th>31</th>\n",
       "      <td>STR132</td>\n",
       "      <td>Digital Bazar</td>\n",
       "      <td>Electronincs</td>\n",
       "      <td>Kolkata</td>\n",
       "      <td>21.4</td>\n",
       "      <td>40</td>\n",
       "      <td>121.0</td>\n",
       "      <td>109</td>\n",
       "      <td>4.11</td>\n",
       "      <td>2.780</td>\n",
       "      <td>18.60</td>\n",
       "      <td>1</td>\n",
       "      <td>1</td>\n",
       "      <td>4</td>\n",
       "      <td>2</td>\n",
       "    </tr>\n",
       "  </tbody>\n",
       "</table>\n",
       "</div>"
      ],
      "text/plain": [
       "   StoreCode         StoreName     StoreType Location  OperatingCost  \\\n",
       "0     STR101  Electronics Zone  Electronincs    Delhi           21.0   \n",
       "1     STR102      Apparel Zone       Apparel    Delhi           21.0   \n",
       "2     STR103       Super Bazar  Super Market    Delhi           22.8   \n",
       "3     STR104      Super Market  Super Market    Delhi           21.4   \n",
       "4     STR105     Central Store  Super Market    Delhi           18.7   \n",
       "5     STR106      Apparel Zone       Apparel    Delhi           18.1   \n",
       "6     STR107     Fashion Bazar       Apparel    Delhi           14.3   \n",
       "7     STR108     Digital Bazar  Electronincs    Delhi           24.4   \n",
       "8     STR109  Electronics Zone  Electronincs  Chennai           22.8   \n",
       "9     STR110      Apparel Zone       Apparel  Chennai           19.2   \n",
       "10    STR111       Super Bazar  Super Market  Chennai           17.8   \n",
       "11    STR112      Super Market  Super Market  Chennai           16.4   \n",
       "12    STR113     Central Store  Super Market  Chennai           17.3   \n",
       "13    STR114      Apparel Zone       Apparel  Chennai           15.2   \n",
       "14    STR115     Fashion Bazar       Apparel  Chennai           10.4   \n",
       "15    STR116     Digital Bazar  Electronincs  Chennai           10.4   \n",
       "16    STR117  Electronics Zone  Electronincs   Mumbai           14.7   \n",
       "17    STR118      Apparel Zone       Apparel   Mumbai           32.4   \n",
       "18    STR119       Super Bazar  Super Market   Mumbai           30.4   \n",
       "19    STR120      Super Market  Super Market   Mumbai           33.9   \n",
       "20    STR121     Central Store  Super Market   Mumbai           21.5   \n",
       "21    STR122      Apparel Zone       Apparel   Mumbai           15.5   \n",
       "22    STR123     Fashion Bazar       Apparel   Mumbai           15.2   \n",
       "23    STR124     Digital Bazar  Electronincs   Mumbai           13.3   \n",
       "24    STR125  Electronics Zone  Electronincs  Kolkata           19.2   \n",
       "25    STR126      Apparel Zone       Apparel  Kolkata           27.3   \n",
       "26    STR127       Super Bazar  Super Market  Kolkata           26.0   \n",
       "27    STR128      Super Market  Super Market  Kolkata           30.4   \n",
       "28    STR129     Central Store  Super Market  Kolkata           15.8   \n",
       "29    STR130      Apparel Zone       Apparel  Kolkata           19.7   \n",
       "30    STR131     Fashion Bazar       Apparel  Kolkata           15.0   \n",
       "31    STR132     Digital Bazar  Electronincs  Kolkata           21.4   \n",
       "\n",
       "    Staff_Cnt  TotalSales  Total_Customers  AcqCostPercust  BasketSize  \\\n",
       "0          60       160.0              110            3.90       2.620   \n",
       "1          60       160.0              110            3.90       2.875   \n",
       "2          40       108.0               93            3.85       2.320   \n",
       "3          60       258.0              110            3.08       3.215   \n",
       "4          80       360.0              175            3.15       3.440   \n",
       "5          60       225.0              105            2.76       3.460   \n",
       "6          80       360.0              245            3.21       3.570   \n",
       "7          40       146.7               62            3.69       3.190   \n",
       "8          40       140.8               95            3.92       3.150   \n",
       "9          60       167.6              123            3.92       3.440   \n",
       "10         60       167.6              123            3.92       3.440   \n",
       "11         80       275.8              180             NaN       4.070   \n",
       "12         80       275.8              180             NaN       3.730   \n",
       "13         80       275.8              180             NaN       3.780   \n",
       "14         80       472.0              205            2.93       5.250   \n",
       "15         80       460.0              215            3.00       5.424   \n",
       "16         80       440.0              230            3.23       5.345   \n",
       "17         40        78.7               66            4.08       2.200   \n",
       "18         40        75.7               52            4.93       1.615   \n",
       "19         40        71.1               65            4.22       1.835   \n",
       "20         40       120.1               97            3.70       2.465   \n",
       "21         80       318.0              150            2.76       3.520   \n",
       "22         80       304.0              150            3.15       3.435   \n",
       "23         80       350.0              245            3.73       3.840   \n",
       "24         80       400.0              175            3.08       3.845   \n",
       "25         40        79.0               66            4.08       1.935   \n",
       "26         40       120.3               91            4.43       2.140   \n",
       "27         40        95.1              113            3.77       1.513   \n",
       "28         80       351.0              264            4.22       3.170   \n",
       "29         60       145.0              175            3.62       2.770   \n",
       "30         80       301.0              335            3.54       3.570   \n",
       "31         40       121.0              109            4.11       2.780   \n",
       "\n",
       "    ProfitPercust  OwnStore  OnlinePresence  Tenure  StoreSegment  \n",
       "0           16.46         0               1       4             4  \n",
       "1           17.02         0               1       4             4  \n",
       "2           18.61         1               1       4             1  \n",
       "3           19.44         1               0       3             1  \n",
       "4           17.02         0               0       3             2  \n",
       "5           20.22         1               0       3             1  \n",
       "6           15.84         0               0       3             4  \n",
       "7           20.00         1               0       4             2  \n",
       "8           22.90         1               0       4             2  \n",
       "9           18.30         1               0       4             4  \n",
       "10          18.90         1               0       4             4  \n",
       "11          17.40         0               0       3             3  \n",
       "12          17.60         0               0       3             3  \n",
       "13          18.00         0               0       3             3  \n",
       "14          17.98         0               0       3             4  \n",
       "15          17.82         0               0       3             4  \n",
       "16          17.42         0               0       3             4  \n",
       "17          19.47         1               1       4             1  \n",
       "18          18.52         1               1       4             2  \n",
       "19          19.90         1               1       4             1  \n",
       "20          20.01         1               0       3             1  \n",
       "21          16.87         0               0       3             2  \n",
       "22          17.30         0               0       3             2  \n",
       "23          15.41         0               0       3             4  \n",
       "24          17.05         0               0       3             2  \n",
       "25          18.90         1               1       4             1  \n",
       "26          16.70         0               1       5             2  \n",
       "27          16.90         1               1       5             2  \n",
       "28          14.50         0               1       5             4  \n",
       "29          15.50         0               1       5             4  \n",
       "30          14.60         0               1       5             4  \n",
       "31          18.60         1               1       4             2  "
      ]
     },
     "execution_count": 8,
     "metadata": {},
     "output_type": "execute_result"
    }
   ],
   "source": [
    "# Removing missing value\n",
    "stores = pd.read_csv(\"D:\\Datasets\\Big Data\\stores.csv\")\n",
    "stores"
   ]
  },
  {
   "cell_type": "code",
   "execution_count": 9,
   "metadata": {},
   "outputs": [
    {
     "name": "stdout",
     "output_type": "stream",
     "text": [
      "<class 'pandas.core.frame.DataFrame'>\n",
      "RangeIndex: 32 entries, 0 to 31\n",
      "Data columns (total 15 columns):\n",
      "StoreCode          32 non-null object\n",
      "StoreName          32 non-null object\n",
      "StoreType          32 non-null object\n",
      "Location           32 non-null object\n",
      "OperatingCost      32 non-null float64\n",
      "Staff_Cnt          32 non-null int64\n",
      "TotalSales         32 non-null float64\n",
      "Total_Customers    32 non-null int64\n",
      "AcqCostPercust     29 non-null float64\n",
      "BasketSize         32 non-null float64\n",
      "ProfitPercust      32 non-null float64\n",
      "OwnStore           32 non-null int64\n",
      "OnlinePresence     32 non-null int64\n",
      "Tenure             32 non-null int64\n",
      "StoreSegment       32 non-null int64\n",
      "dtypes: float64(5), int64(6), object(4)\n",
      "memory usage: 3.8+ KB\n"
     ]
    }
   ],
   "source": [
    "stores.info()"
   ]
  },
  {
   "cell_type": "code",
   "execution_count": 10,
   "metadata": {},
   "outputs": [
    {
     "data": {
      "text/plain": [
       "0     3.900000\n",
       "1     3.900000\n",
       "2     3.850000\n",
       "3     3.080000\n",
       "4     3.150000\n",
       "5     2.760000\n",
       "6     3.210000\n",
       "7     3.690000\n",
       "8     3.920000\n",
       "9     3.920000\n",
       "10    3.920000\n",
       "11    3.651034\n",
       "12    3.651034\n",
       "13    3.651034\n",
       "14    2.930000\n",
       "15    3.000000\n",
       "16    3.230000\n",
       "17    4.080000\n",
       "18    4.930000\n",
       "19    4.220000\n",
       "20    3.700000\n",
       "21    2.760000\n",
       "22    3.150000\n",
       "23    3.730000\n",
       "24    3.080000\n",
       "25    4.080000\n",
       "26    4.430000\n",
       "27    3.770000\n",
       "28    4.220000\n",
       "29    3.620000\n",
       "30    3.540000\n",
       "31    4.110000\n",
       "Name: AcqCostPercust, dtype: float64"
      ]
     },
     "execution_count": 10,
     "metadata": {},
     "output_type": "execute_result"
    }
   ],
   "source": [
    "# The isnull() function\n",
    "stores.AcqCostPercust.isnull()\n",
    "# if a value in Series is NON then True\n",
    "\n",
    "ACQ = stores.AcqCostPercust\n",
    "ACQ\n",
    "\n",
    "ACQ.fillna(0)\n",
    "\n",
    "# Replace NaN in ACQ with mean()\n",
    "ACQ.fillna(ACQ.mean())\n",
    "\n"
   ]
  },
  {
   "cell_type": "code",
   "execution_count": null,
   "metadata": {},
   "outputs": [],
   "source": [
    "# Aggreations / Group by\n",
    "# Step 1: Group by\n",
    "temp = stores.groupby(\"Location\")\n",
    "# This step creating temp object\n",
    "\n",
    "# Step 2: Selecting the Continuos variable\n",
    "temp = temp[[\"TotalSales\"]]\n",
    "\n",
    "# Step 3\n",
    "temp.sum().reset_index()"
   ]
  },
  {
   "cell_type": "code",
   "execution_count": null,
   "metadata": {
    "scrolled": true
   },
   "outputs": [],
   "source": [
    "# Evething in 1 step\n",
    "stores.groupby([\"Location\"])[[\"TotalSales\"]].sum().reset_index()"
   ]
  },
  {
   "cell_type": "code",
   "execution_count": null,
   "metadata": {},
   "outputs": [],
   "source": [
    "# Prefix\n",
    "stores.groupby([\"Location\"])[[\"TotalSales\"]].sum().add_prefix(\"SumOf_\").reset_index()"
   ]
  },
  {
   "cell_type": "code",
   "execution_count": null,
   "metadata": {},
   "outputs": [],
   "source": [
    "# Group by Location and StoreType, find SumOfOperatingCost\n",
    "stores.groupby([\"Location\",\"StoreType\"])[[\"TotalSales\"]].sum().add_prefix(\"SumOf_\").reset_index()"
   ]
  },
  {
   "cell_type": "code",
   "execution_count": null,
   "metadata": {},
   "outputs": [],
   "source": [
    "stores.groupby([\"Location\",\"StoreType\"])[[\"TotalSales\",\"Total_Customers\"]].sum().add_prefix(\"SumOf_\").reset_index()"
   ]
  },
  {
   "cell_type": "code",
   "execution_count": null,
   "metadata": {},
   "outputs": [],
   "source": [
    "# Group by Location, find\n",
    "stores.groupby([\"Location\"])[[\"TotalSales\",\"Total_Customers\"]].sum().add_prefix(\"SumOf_\").reset_index()"
   ]
  },
  {
   "cell_type": "code",
   "execution_count": 11,
   "metadata": {},
   "outputs": [
    {
     "data": {
      "text/html": [
       "<div>\n",
       "<style scoped>\n",
       "    .dataframe tbody tr th:only-of-type {\n",
       "        vertical-align: middle;\n",
       "    }\n",
       "\n",
       "    .dataframe tbody tr th {\n",
       "        vertical-align: top;\n",
       "    }\n",
       "\n",
       "    .dataframe thead th {\n",
       "        text-align: right;\n",
       "    }\n",
       "</style>\n",
       "<table border=\"1\" class=\"dataframe\">\n",
       "  <thead>\n",
       "    <tr style=\"text-align: right;\">\n",
       "      <th></th>\n",
       "      <th>Location</th>\n",
       "      <th>SumOfOperatingCost</th>\n",
       "      <th>AvgOfTotalSales</th>\n",
       "    </tr>\n",
       "  </thead>\n",
       "  <tbody>\n",
       "    <tr>\n",
       "      <th>0</th>\n",
       "      <td>Chennai</td>\n",
       "      <td>129.5</td>\n",
       "      <td>279.4250</td>\n",
       "    </tr>\n",
       "    <tr>\n",
       "      <th>1</th>\n",
       "      <td>Delhi</td>\n",
       "      <td>161.7</td>\n",
       "      <td>222.2125</td>\n",
       "    </tr>\n",
       "    <tr>\n",
       "      <th>2</th>\n",
       "      <td>Kolkata</td>\n",
       "      <td>174.8</td>\n",
       "      <td>201.5500</td>\n",
       "    </tr>\n",
       "    <tr>\n",
       "      <th>3</th>\n",
       "      <td>Mumbai</td>\n",
       "      <td>176.9</td>\n",
       "      <td>219.7000</td>\n",
       "    </tr>\n",
       "  </tbody>\n",
       "</table>\n",
       "</div>"
      ],
      "text/plain": [
       "  Location  SumOfOperatingCost  AvgOfTotalSales\n",
       "0  Chennai               129.5         279.4250\n",
       "1    Delhi               161.7         222.2125\n",
       "2  Kolkata               174.8         201.5500\n",
       "3   Mumbai               176.9         219.7000"
      ]
     },
     "execution_count": 11,
     "metadata": {},
     "output_type": "execute_result"
    }
   ],
   "source": [
    "# Group by Location, MeanOfTotalSales\n",
    "Res = stores.groupby([\"Location\"], as_index = False).agg({\"OperatingCost\":\"sum\",\"TotalSales\":\"mean\"})\n",
    "Res = Res.rename(columns = {\"OperatingCost\":\"SumOfOperatingCost\",\"TotalSales\":\"AvgOfTotalSales\"})\n",
    "Res"
   ]
  },
  {
   "cell_type": "code",
   "execution_count": 12,
   "metadata": {},
   "outputs": [
    {
     "data": {
      "text/plain": [
       "array('negative', dtype='<U8')"
      ]
     },
     "execution_count": 12,
     "metadata": {},
     "output_type": "execute_result"
    }
   ],
   "source": [
    "# Binning\n",
    "# Phan khoang du lieu cua mot Columns\n",
    "import numpy as np\n",
    "\n",
    "x = -10\n",
    "# if x is +, or -\n",
    "np.where((x>0),\"positive\",\"negative\")"
   ]
  },
  {
   "cell_type": "code",
   "execution_count": 13,
   "metadata": {
    "scrolled": true
   },
   "outputs": [
    {
     "data": {
      "text/plain": [
       "array('negative', dtype='<U8')"
      ]
     },
     "execution_count": 13,
     "metadata": {},
     "output_type": "execute_result"
    }
   ],
   "source": [
    "np.where((x==0),\"zero\",np.where((x>0),\"positive\",\"negative\"))"
   ]
  },
  {
   "cell_type": "code",
   "execution_count": 14,
   "metadata": {},
   "outputs": [
    {
     "data": {
      "text/plain": [
       "array(['Mid', 'Mid', 'Mid', 'High', 'Very High', 'High', 'Very High',\n",
       "       'Mid', 'Mid', 'Mid', 'Mid', 'High', 'High', 'High', 'Very High',\n",
       "       'Very High', 'Very High', 'Low', 'Low', 'Low', 'Mid', 'Very High',\n",
       "       'Very High', 'Very High', 'Very High', 'Low', 'Mid', 'Low',\n",
       "       'Very High', 'Mid', 'Very High', 'Mid'], dtype='<U9')"
      ]
     },
     "execution_count": 14,
     "metadata": {},
     "output_type": "execute_result"
    }
   ],
   "source": [
    "TS = stores.TotalSales\n",
    "np.where((TS<100),\"Low\",np.where(((TS>=100) & (TS <200)),\"Mid\",np.where(((TS>=200) & (TS<300)),\"High\",\"Very High\")))"
   ]
  },
  {
   "cell_type": "code",
   "execution_count": 15,
   "metadata": {},
   "outputs": [],
   "source": [
    "import pandas as pd\n",
    "# Merging\n",
    "\n",
    "# Inner join\n",
    "# Outer / Left join\n",
    "\n",
    "# pd.merge()\n",
    "\n",
    "demographic = pd.read_csv(\"D:\\Datasets\\Big Data\\Demographic_Data.csv\")\n",
    "txn = pd.read_csv(\"D:\\Datasets\\Big Data\\Transaction_Summary.csv\")"
   ]
  },
  {
   "cell_type": "code",
   "execution_count": 16,
   "metadata": {},
   "outputs": [
    {
     "data": {
      "text/html": [
       "<div>\n",
       "<style scoped>\n",
       "    .dataframe tbody tr th:only-of-type {\n",
       "        vertical-align: middle;\n",
       "    }\n",
       "\n",
       "    .dataframe tbody tr th {\n",
       "        vertical-align: top;\n",
       "    }\n",
       "\n",
       "    .dataframe thead th {\n",
       "        text-align: right;\n",
       "    }\n",
       "</style>\n",
       "<table border=\"1\" class=\"dataframe\">\n",
       "  <thead>\n",
       "    <tr style=\"text-align: right;\">\n",
       "      <th></th>\n",
       "      <th>CustName</th>\n",
       "      <th>Gender</th>\n",
       "      <th>Age</th>\n",
       "      <th>Location</th>\n",
       "      <th>Salary</th>\n",
       "      <th>Education</th>\n",
       "      <th>Mobile</th>\n",
       "    </tr>\n",
       "  </thead>\n",
       "  <tbody>\n",
       "    <tr>\n",
       "      <th>0</th>\n",
       "      <td>Alex</td>\n",
       "      <td>M</td>\n",
       "      <td>21</td>\n",
       "      <td>UK</td>\n",
       "      <td>19159</td>\n",
       "      <td>PhD</td>\n",
       "      <td>8834777722</td>\n",
       "    </tr>\n",
       "    <tr>\n",
       "      <th>1</th>\n",
       "      <td>Tom</td>\n",
       "      <td>M</td>\n",
       "      <td>34</td>\n",
       "      <td>USA</td>\n",
       "      <td>10461</td>\n",
       "      <td>X</td>\n",
       "      <td>8812237772</td>\n",
       "    </tr>\n",
       "    <tr>\n",
       "      <th>2</th>\n",
       "      <td>Michel</td>\n",
       "      <td>M</td>\n",
       "      <td>25</td>\n",
       "      <td>India</td>\n",
       "      <td>19961</td>\n",
       "      <td>XII</td>\n",
       "      <td>8834777232</td>\n",
       "    </tr>\n",
       "    <tr>\n",
       "      <th>3</th>\n",
       "      <td>Michael</td>\n",
       "      <td>M</td>\n",
       "      <td>28</td>\n",
       "      <td>Belgium</td>\n",
       "      <td>821</td>\n",
       "      <td>B.Com</td>\n",
       "      <td>8831234222</td>\n",
       "    </tr>\n",
       "    <tr>\n",
       "      <th>4</th>\n",
       "      <td>Patrik</td>\n",
       "      <td>M</td>\n",
       "      <td>29</td>\n",
       "      <td>Australia</td>\n",
       "      <td>13743</td>\n",
       "      <td>MBA</td>\n",
       "      <td>8823427722</td>\n",
       "    </tr>\n",
       "    <tr>\n",
       "      <th>5</th>\n",
       "      <td>Hans</td>\n",
       "      <td>M</td>\n",
       "      <td>34</td>\n",
       "      <td>Japan</td>\n",
       "      <td>25000</td>\n",
       "      <td>MS</td>\n",
       "      <td>8834772342</td>\n",
       "    </tr>\n",
       "    <tr>\n",
       "      <th>6</th>\n",
       "      <td>Biliana</td>\n",
       "      <td>F</td>\n",
       "      <td>26</td>\n",
       "      <td>Russia</td>\n",
       "      <td>3000</td>\n",
       "      <td>MS</td>\n",
       "      <td>8837427722</td>\n",
       "    </tr>\n",
       "    <tr>\n",
       "      <th>7</th>\n",
       "      <td>Raj</td>\n",
       "      <td>M</td>\n",
       "      <td>29</td>\n",
       "      <td>India</td>\n",
       "      <td>2000</td>\n",
       "      <td>MS</td>\n",
       "      <td>9892877722</td>\n",
       "    </tr>\n",
       "    <tr>\n",
       "      <th>8</th>\n",
       "      <td>Laila</td>\n",
       "      <td>F</td>\n",
       "      <td>26</td>\n",
       "      <td>India</td>\n",
       "      <td>4000</td>\n",
       "      <td>MBA</td>\n",
       "      <td>7867277722</td>\n",
       "    </tr>\n",
       "    <tr>\n",
       "      <th>9</th>\n",
       "      <td>Prabhas</td>\n",
       "      <td>F</td>\n",
       "      <td>35</td>\n",
       "      <td>India</td>\n",
       "      <td>20000</td>\n",
       "      <td>MBA</td>\n",
       "      <td>8834772321</td>\n",
       "    </tr>\n",
       "  </tbody>\n",
       "</table>\n",
       "</div>"
      ],
      "text/plain": [
       "  CustName Gender  Age   Location  Salary Education      Mobile\n",
       "0     Alex      M   21         UK   19159       PhD  8834777722\n",
       "1      Tom      M   34        USA   10461         X  8812237772\n",
       "2   Michel      M   25      India   19961       XII  8834777232\n",
       "3  Michael      M   28    Belgium     821     B.Com  8831234222\n",
       "4   Patrik      M   29  Australia   13743       MBA  8823427722\n",
       "5     Hans      M   34      Japan   25000        MS  8834772342\n",
       "6  Biliana      F   26     Russia    3000        MS  8837427722\n",
       "7      Raj      M   29      India    2000        MS  9892877722\n",
       "8    Laila      F   26      India    4000       MBA  7867277722\n",
       "9  Prabhas      F   35      India   20000       MBA  8834772321"
      ]
     },
     "execution_count": 16,
     "metadata": {},
     "output_type": "execute_result"
    }
   ],
   "source": [
    "demographic"
   ]
  },
  {
   "cell_type": "code",
   "execution_count": 17,
   "metadata": {},
   "outputs": [
    {
     "data": {
      "text/html": [
       "<div>\n",
       "<style scoped>\n",
       "    .dataframe tbody tr th:only-of-type {\n",
       "        vertical-align: middle;\n",
       "    }\n",
       "\n",
       "    .dataframe tbody tr th {\n",
       "        vertical-align: top;\n",
       "    }\n",
       "\n",
       "    .dataframe thead th {\n",
       "        text-align: right;\n",
       "    }\n",
       "</style>\n",
       "<table border=\"1\" class=\"dataframe\">\n",
       "  <thead>\n",
       "    <tr style=\"text-align: right;\">\n",
       "      <th></th>\n",
       "      <th>CustomerName</th>\n",
       "      <th>Total_Transaction_value</th>\n",
       "      <th>No_of_holding_prods</th>\n",
       "      <th>No_of_visits</th>\n",
       "      <th>No_of_channels</th>\n",
       "    </tr>\n",
       "  </thead>\n",
       "  <tbody>\n",
       "    <tr>\n",
       "      <th>0</th>\n",
       "      <td>Alex</td>\n",
       "      <td>19159</td>\n",
       "      <td>3</td>\n",
       "      <td>3</td>\n",
       "      <td>1</td>\n",
       "    </tr>\n",
       "    <tr>\n",
       "      <th>1</th>\n",
       "      <td>Tom</td>\n",
       "      <td>10461</td>\n",
       "      <td>2</td>\n",
       "      <td>7</td>\n",
       "      <td>2</td>\n",
       "    </tr>\n",
       "    <tr>\n",
       "      <th>2</th>\n",
       "      <td>Michel</td>\n",
       "      <td>19961</td>\n",
       "      <td>4</td>\n",
       "      <td>8</td>\n",
       "      <td>3</td>\n",
       "    </tr>\n",
       "    <tr>\n",
       "      <th>3</th>\n",
       "      <td>Hans</td>\n",
       "      <td>821</td>\n",
       "      <td>1</td>\n",
       "      <td>2</td>\n",
       "      <td>2</td>\n",
       "    </tr>\n",
       "    <tr>\n",
       "      <th>4</th>\n",
       "      <td>Biliana</td>\n",
       "      <td>13743</td>\n",
       "      <td>6</td>\n",
       "      <td>9</td>\n",
       "      <td>3</td>\n",
       "    </tr>\n",
       "    <tr>\n",
       "      <th>5</th>\n",
       "      <td>Rajesh</td>\n",
       "      <td>25000</td>\n",
       "      <td>2</td>\n",
       "      <td>12</td>\n",
       "      <td>2</td>\n",
       "    </tr>\n",
       "    <tr>\n",
       "      <th>6</th>\n",
       "      <td>Laila</td>\n",
       "      <td>3000</td>\n",
       "      <td>1</td>\n",
       "      <td>6</td>\n",
       "      <td>1</td>\n",
       "    </tr>\n",
       "    <tr>\n",
       "      <th>7</th>\n",
       "      <td>Prabhas</td>\n",
       "      <td>2000</td>\n",
       "      <td>2</td>\n",
       "      <td>4</td>\n",
       "      <td>2</td>\n",
       "    </tr>\n",
       "    <tr>\n",
       "      <th>8</th>\n",
       "      <td>Ramu</td>\n",
       "      <td>30000</td>\n",
       "      <td>6</td>\n",
       "      <td>2</td>\n",
       "      <td>3</td>\n",
       "    </tr>\n",
       "  </tbody>\n",
       "</table>\n",
       "</div>"
      ],
      "text/plain": [
       "  CustomerName  Total_Transaction_value  No_of_holding_prods  No_of_visits  \\\n",
       "0         Alex                    19159                    3             3   \n",
       "1          Tom                    10461                    2             7   \n",
       "2       Michel                    19961                    4             8   \n",
       "3         Hans                      821                    1             2   \n",
       "4      Biliana                    13743                    6             9   \n",
       "5       Rajesh                    25000                    2            12   \n",
       "6        Laila                     3000                    1             6   \n",
       "7      Prabhas                     2000                    2             4   \n",
       "8         Ramu                    30000                    6             2   \n",
       "\n",
       "   No_of_channels  \n",
       "0               1  \n",
       "1               2  \n",
       "2               3  \n",
       "3               2  \n",
       "4               3  \n",
       "5               2  \n",
       "6               1  \n",
       "7               2  \n",
       "8               3  "
      ]
     },
     "execution_count": 17,
     "metadata": {},
     "output_type": "execute_result"
    }
   ],
   "source": [
    "txn"
   ]
  },
  {
   "cell_type": "code",
   "execution_count": null,
   "metadata": {},
   "outputs": [],
   "source": [
    "# Thuc hien Merge 2 bang so lieu\n",
    "pd.merge(left = demographic,\n",
    "         right = txn,\n",
    "         left_on = \"CustName\",\n",
    "         right_on = \"CustomerName\",\n",
    "         indicator = True\n",
    "        )"
   ]
  },
  {
   "cell_type": "code",
   "execution_count": null,
   "metadata": {},
   "outputs": [],
   "source": [
    "import pandas as pd\n",
    "\n",
    "demographic = pd.read_csv(\"D:\\Datasets\\Big Data\\Demographic_Data.csv\")\n",
    "txn = pd.read_csv(\"D:\\Datasets\\Big Data\\Salary_Data.csv\")\n",
    "txn\n",
    "#demographic"
   ]
  },
  {
   "cell_type": "code",
   "execution_count": null,
   "metadata": {},
   "outputs": [],
   "source": [
    "data = pd.read_csv(\"D:\\Datasets\\Big Data\\Demographic_Data.csv\")\n",
    "data\n"
   ]
  },
  {
   "cell_type": "code",
   "execution_count": null,
   "metadata": {},
   "outputs": [],
   "source": [
    "import numpy as np\n",
    "import matplotlib.pyplot as plt\n",
    "from matplotlib import cm\n",
    "from mpl_toolkits.mplot3d import Axes3D\n",
    "\n",
    "ox = np.arange(-5, 5, 0.25)\n",
    "oy = np.arange(-5, 5, 0.25)\n",
    "ox, oy = np.meshgrid(ox, oy)\n",
    "oz = ox**2 + oy**2 # Hàm số z = x^2 + y^2\n",
    "\n",
    "fig = plt.figure()\n",
    "graph = Axes3D(fig)\n",
    "graph.plot_surface(ox, oy, oz, cmap=cm.magma)\n",
    "\n",
    "plt.show()"
   ]
  },
  {
   "cell_type": "code",
   "execution_count": null,
   "metadata": {},
   "outputs": [],
   "source": []
  },
  {
   "cell_type": "code",
   "execution_count": null,
   "metadata": {},
   "outputs": [],
   "source": []
  }
 ],
 "metadata": {
  "kernelspec": {
   "display_name": "Python 3",
   "language": "python",
   "name": "python3"
  },
  "language_info": {
   "codemirror_mode": {
    "name": "ipython",
    "version": 3
   },
   "file_extension": ".py",
   "mimetype": "text/x-python",
   "name": "python",
   "nbconvert_exporter": "python",
   "pygments_lexer": "ipython3",
   "version": "3.7.3"
  }
 },
 "nbformat": 4,
 "nbformat_minor": 2
}
